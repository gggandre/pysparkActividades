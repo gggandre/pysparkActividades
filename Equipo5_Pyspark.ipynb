{
 "cells": [
  {
   "cell_type": "code",
   "execution_count": 1,
   "id": "e5d8f3cf",
   "metadata": {},
   "outputs": [
    {
     "name": "stderr",
     "output_type": "stream",
     "text": [
      "your 131072x1 screen size is bogus. expect trouble\n",
      "23/09/28 18:16:50 WARN Utils: Your hostname, Nitro-Andre resolves to a loopback address: 127.0.1.1; using 172.22.45.199 instead (on interface eth0)\n",
      "23/09/28 18:16:50 WARN Utils: Set SPARK_LOCAL_IP if you need to bind to another address\n",
      "Setting default log level to \"WARN\".\n",
      "To adjust logging level use sc.setLogLevel(newLevel). For SparkR, use setLogLevel(newLevel).\n",
      "23/09/28 18:16:51 WARN NativeCodeLoader: Unable to load native-hadoop library for your platform... using builtin-java classes where applicable\n"
     ]
    }
   ],
   "source": [
    "from pyspark.sql import SparkSession\n",
    "\n",
    "# Crear una sesión de Spark\n",
    "spark = SparkSession.builder.appName('PySpark_Version_Equipo5').getOrCreate()"
   ]
  },
  {
   "cell_type": "code",
   "execution_count": 1,
   "id": "d6267893",
   "metadata": {},
   "outputs": [
    {
     "name": "stderr",
     "output_type": "stream",
     "text": [
      "your 131072x1 screen size is bogus. expect trouble\n",
      "23/09/28 18:54:57 WARN Utils: Your hostname, Nitro-Andre resolves to a loopback address: 127.0.1.1; using 172.22.45.199 instead (on interface eth0)\n",
      "23/09/28 18:54:57 WARN Utils: Set SPARK_LOCAL_IP if you need to bind to another address\n"
     ]
    },
    {
     "name": "stdout",
     "output_type": "stream",
     "text": [
      ":: loading settings :: url = jar:file:/home/gggandre/ia2/bigdata/pyspark/.venv/lib/python3.8/site-packages/pyspark/jars/ivy-2.5.1.jar!/org/apache/ivy/core/settings/ivysettings.xml\n"
     ]
    },
    {
     "name": "stderr",
     "output_type": "stream",
     "text": [
      "Ivy Default Cache set to: /home/gggandre/.ivy2/cache\n",
      "The jars for the packages stored in: /home/gggandre/.ivy2/jars\n",
      "com.crealytics#spark-excel_2.12 added as a dependency\n",
      ":: resolving dependencies :: org.apache.spark#spark-submit-parent-c592b91b-e877-45c4-856c-0334a2886da6;1.0\n",
      "\tconfs: [default]\n",
      "\tfound com.crealytics#spark-excel_2.12;0.13.7 in central\n",
      "\tfound org.apache.poi#poi;4.1.2 in central\n",
      "\tfound commons-codec#commons-codec;1.13 in central\n",
      "\tfound org.apache.commons#commons-collections4;4.4 in central\n",
      "\tfound org.apache.commons#commons-math3;3.6.1 in central\n",
      "\tfound com.zaxxer#SparseBitSet;1.2 in central\n",
      "\tfound org.apache.poi#poi-ooxml;4.1.2 in central\n",
      "\tfound org.apache.poi#poi-ooxml-schemas;4.1.2 in central\n",
      "\tfound org.apache.xmlbeans#xmlbeans;3.1.0 in central\n",
      "\tfound com.github.virtuald#curvesapi;1.06 in central\n",
      "\tfound com.norbitltd#spoiwo_2.12;1.8.0 in central\n",
      "\tfound org.scala-lang.modules#scala-xml_2.12;1.3.0 in central\n",
      "\tfound com.github.pjfanning#excel-streaming-reader;2.3.6 in central\n",
      "\tfound com.github.pjfanning#poi-shared-strings;1.0.4 in central\n",
      "\tfound com.h2database#h2;1.4.200 in central\n",
      "\tfound org.apache.commons#commons-text;1.8 in central\n",
      "\tfound org.apache.commons#commons-lang3;3.9 in central\n",
      "\tfound xml-apis#xml-apis;1.4.01 in central\n",
      "\tfound org.slf4j#slf4j-api;1.7.30 in central\n",
      "\tfound org.apache.commons#commons-compress;1.20 in central\n",
      ":: resolution report :: resolve 561ms :: artifacts dl 28ms\n",
      "\t:: modules in use:\n",
      "\tcom.crealytics#spark-excel_2.12;0.13.7 from central in [default]\n",
      "\tcom.github.pjfanning#excel-streaming-reader;2.3.6 from central in [default]\n",
      "\tcom.github.pjfanning#poi-shared-strings;1.0.4 from central in [default]\n",
      "\tcom.github.virtuald#curvesapi;1.06 from central in [default]\n",
      "\tcom.h2database#h2;1.4.200 from central in [default]\n",
      "\tcom.norbitltd#spoiwo_2.12;1.8.0 from central in [default]\n",
      "\tcom.zaxxer#SparseBitSet;1.2 from central in [default]\n",
      "\tcommons-codec#commons-codec;1.13 from central in [default]\n",
      "\torg.apache.commons#commons-collections4;4.4 from central in [default]\n",
      "\torg.apache.commons#commons-compress;1.20 from central in [default]\n",
      "\torg.apache.commons#commons-lang3;3.9 from central in [default]\n",
      "\torg.apache.commons#commons-math3;3.6.1 from central in [default]\n",
      "\torg.apache.commons#commons-text;1.8 from central in [default]\n",
      "\torg.apache.poi#poi;4.1.2 from central in [default]\n",
      "\torg.apache.poi#poi-ooxml;4.1.2 from central in [default]\n",
      "\torg.apache.poi#poi-ooxml-schemas;4.1.2 from central in [default]\n",
      "\torg.apache.xmlbeans#xmlbeans;3.1.0 from central in [default]\n",
      "\torg.scala-lang.modules#scala-xml_2.12;1.3.0 from central in [default]\n",
      "\torg.slf4j#slf4j-api;1.7.30 from central in [default]\n",
      "\txml-apis#xml-apis;1.4.01 from central in [default]\n",
      "\t:: evicted modules:\n",
      "\torg.apache.commons#commons-compress;1.19 by [org.apache.commons#commons-compress;1.20] in [default]\n",
      "\t---------------------------------------------------------------------\n",
      "\t|                  |            modules            ||   artifacts   |\n",
      "\t|       conf       | number| search|dwnlded|evicted|| number|dwnlded|\n",
      "\t---------------------------------------------------------------------\n",
      "\t|      default     |   21  |   0   |   0   |   1   ||   20  |   0   |\n",
      "\t---------------------------------------------------------------------\n",
      ":: retrieving :: org.apache.spark#spark-submit-parent-c592b91b-e877-45c4-856c-0334a2886da6\n",
      "\tconfs: [default]\n",
      "\t0 artifacts copied, 20 already retrieved (0kB/12ms)\n",
      "23/09/28 18:54:59 WARN NativeCodeLoader: Unable to load native-hadoop library for your platform... using builtin-java classes where applicable\n",
      "Setting default log level to \"WARN\".\n",
      "To adjust logging level use sc.setLogLevel(newLevel). For SparkR, use setLogLevel(newLevel).\n"
     ]
    }
   ],
   "source": [
    "from pyspark.sql import SparkSession\n",
    "\n",
    "spark = SparkSession.builder \\\n",
    "    .appName(\"Excel-to-DataFrame\") \\\n",
    "    .config(\"spark.jars.packages\", \"com.crealytics:spark-excel_2.12:0.13.7\") \\\n",
    "    .getOrCreate()"
   ]
  },
  {
   "cell_type": "code",
   "execution_count": 5,
   "id": "429259d7",
   "metadata": {},
   "outputs": [
    {
     "name": "stdout",
     "output_type": "stream",
     "text": [
      "+------+----+----------------+--------------------+-------+-----------------+--------------+--------------------+\n",
      "|REGION|  ID|          NOMBRE|            APELLIDO|SALARIO|UNIDADES VENDIDAS|VENTAS TOTALES|PORCENTAJE DE VENTAS|\n",
      "+------+----+----------------+--------------------+-------+-----------------+--------------+--------------------+\n",
      "| NORTE|8725|          Arturo|     Bustos González|  12041|              212|          4554|              0.0693|\n",
      "| NORTE|4352|      Jesús Said|         Caro Ibarra|  11504|              488|          3298|              0.0502|\n",
      "| NORTE|5185|     Ana Valeria|     Cruz Montesinos|  10046|              429|          7238|              0.1102|\n",
      "| NORTE|6918|         Miranda|         Doring Romo|  10266|              109|          5635|              0.0858|\n",
      "| NORTE|8607|  Bruno Guissepe|      Garcini García|  10431|              222|          5405|              0.0823|\n",
      "| NORTE|5158|   Donovan Hiram|         García Cruz|  11773|              438|          3577|              0.0545|\n",
      "| NORTE|5397|          Ixchel|        García Galán|   8654|              291|         10020|              0.1526|\n",
      "| NORTE|2353|       Sebastián|     Garduño Pabello|  11777|              280|          7922|              0.1206|\n",
      "| NORTE|5467|         Gustavo|   Guadarrama García|  12071|              184|          8972|              0.1366|\n",
      "| NORTE|2523|      Juan Pablo|Herrera Moro Salcedo|  12072|              143|          9053|              0.1378|\n",
      "|   SUR|3969|          Héctor|   Hidalgo Sepúlveda|   8438|              431|          6626|              0.0920|\n",
      "|   SUR|3397|          Xareni|         Lara Roldán|   9041|              451|          4373|              0.0607|\n",
      "|   SUR|9252|         Abigail|         Luna Pineda|   8561|              330|          4158|              0.0577|\n",
      "|   SUR|9091|           Diego|      Mancha Mendoza|   9446|              366|          5022|              0.0697|\n",
      "|   SUR|2445|            Eric|  Martin Monterrubio|  12141|              476|          6234|              0.0865|\n",
      "|   SUR|5305|Carlos Emmiliano|         Medina Rojo|   8044|              340|          6984|              0.0969|\n",
      "|   SUR|3796|    Jimena Sarai|       Medina Sedano|  11431|              231|          7522|              0.1044|\n",
      "|   SUR|6032|          Fermín|       Méndez García|   9953|              448|          3612|              0.0501|\n",
      "|   SUR|6413|   Sergio Arturo|      Nava Rodríguez|   9572|              218|          5157|              0.0716|\n",
      "|   SUR|9619|   Óscar Eduardo|       Nieto Espitia|   8421|              145|          5951|              0.0826|\n",
      "+------+----+----------------+--------------------+-------+-----------------+--------------+--------------------+\n",
      "only showing top 20 rows\n",
      "\n"
     ]
    },
    {
     "name": "stderr",
     "output_type": "stream",
     "text": [
      "                                                                                \r"
     ]
    }
   ],
   "source": [
    "vendedores_df = spark.read.format('com.crealytics.spark.excel') \\\n",
    "                          .option('header', 'true') \\\n",
    "                          .load('vendedores.xlsx')\n",
    "vendedores_df.show()"
   ]
  },
  {
   "cell_type": "code",
   "execution_count": 6,
   "id": "1f0875ed",
   "metadata": {},
   "outputs": [
    {
     "name": "stdout",
     "output_type": "stream",
     "text": [
      "+------+----+--------------+--------------------+-------+-----------------+--------------+--------------------+\n",
      "|REGION|  ID|        NOMBRE|            APELLIDO|SALARIO|UNIDADES VENDIDAS|VENTAS TOTALES|PORCENTAJE DE VENTAS|\n",
      "+------+----+--------------+--------------------+-------+-----------------+--------------+--------------------+\n",
      "| NORTE|8725|        Arturo|     Bustos González|  12041|              212|          4554|              0.0693|\n",
      "| NORTE|4352|    Jesús Said|         Caro Ibarra|  11504|              488|          3298|              0.0502|\n",
      "| NORTE|5185|   Ana Valeria|     Cruz Montesinos|  10046|              429|          7238|              0.1102|\n",
      "| NORTE|6918|       Miranda|         Doring Romo|  10266|              109|          5635|              0.0858|\n",
      "| NORTE|8607|Bruno Guissepe|      Garcini García|  10431|              222|          5405|              0.0823|\n",
      "| NORTE|5158| Donovan Hiram|         García Cruz|  11773|              438|          3577|              0.0545|\n",
      "| NORTE|5397|        Ixchel|        García Galán|   8654|              291|         10020|              0.1526|\n",
      "| NORTE|2353|     Sebastián|     Garduño Pabello|  11777|              280|          7922|              0.1206|\n",
      "| NORTE|5467|       Gustavo|   Guadarrama García|  12071|              184|          8972|              0.1366|\n",
      "| NORTE|2523|    Juan Pablo|Herrera Moro Salcedo|  12072|              143|          9053|              0.1378|\n",
      "+------+----+--------------+--------------------+-------+-----------------+--------------+--------------------+\n",
      "\n"
     ]
    }
   ],
   "source": [
    "reporteNorte_df = vendedores_df.filter(vendedores_df['REGION'] == 'NORTE')\n",
    "reporteNorte_df.show()"
   ]
  },
  {
   "cell_type": "code",
   "execution_count": 7,
   "id": "f5a15c0a",
   "metadata": {},
   "outputs": [
    {
     "name": "stdout",
     "output_type": "stream",
     "text": [
      "+--------------+\n",
      "|VENTAS TOTALES|\n",
      "+--------------+\n",
      "|          4554|\n",
      "|          3298|\n",
      "|          7238|\n",
      "|          5635|\n",
      "|          5405|\n",
      "|          3577|\n",
      "|         10020|\n",
      "|          7922|\n",
      "|          8972|\n",
      "|          9053|\n",
      "+--------------+\n",
      "\n"
     ]
    }
   ],
   "source": [
    "ventasNorte_df = reporteNorte_df.select(\"VENTAS TOTALES\")\n",
    "ventasNorte_df.show()"
   ]
  },
  {
   "cell_type": "code",
   "execution_count": 8,
   "id": "a9bf602a",
   "metadata": {},
   "outputs": [
    {
     "name": "stdout",
     "output_type": "stream",
     "text": [
      "Promedio de ventas región norte: 6567.4\n"
     ]
    }
   ],
   "source": [
    "ventasNorte_mean = ventasNorte_df.agg({'VENTAS TOTALES': 'mean'}).collect()[0][0]\n",
    "print(f'Promedio de ventas región norte: {ventasNorte_mean}')"
   ]
  },
  {
   "cell_type": "code",
   "execution_count": 9,
   "id": "8bd991c8",
   "metadata": {},
   "outputs": [
    {
     "name": "stdout",
     "output_type": "stream",
     "text": [
      "+--------------+\n",
      "|        NOMBRE|\n",
      "+--------------+\n",
      "|        Arturo|\n",
      "|    Jesús Said|\n",
      "|   Ana Valeria|\n",
      "|       Miranda|\n",
      "|Bruno Guissepe|\n",
      "| Donovan Hiram|\n",
      "|        Ixchel|\n",
      "|     Sebastián|\n",
      "|       Gustavo|\n",
      "|    Juan Pablo|\n",
      "+--------------+\n",
      "\n"
     ]
    }
   ],
   "source": [
    "vendedoresNorte_df = reporteNorte_df.select(\"NOMBRE\")\n",
    "vendedoresNorte_df.show()"
   ]
  },
  {
   "cell_type": "code",
   "execution_count": 10,
   "id": "5ba38b09",
   "metadata": {},
   "outputs": [
    {
     "name": "stdout",
     "output_type": "stream",
     "text": [
      "+-------+\n",
      "|SALARIO|\n",
      "+-------+\n",
      "|  12041|\n",
      "|  11504|\n",
      "|  10046|\n",
      "|  10266|\n",
      "|  10431|\n",
      "|  11773|\n",
      "|   8654|\n",
      "|  11777|\n",
      "|  12071|\n",
      "|  12072|\n",
      "+-------+\n",
      "\n"
     ]
    }
   ],
   "source": [
    "salariosNorte_df = reporteNorte_df.select(\"SALARIO\")\n",
    "salariosNorte_df.show()"
   ]
  },
  {
   "cell_type": "code",
   "execution_count": 11,
   "id": "773b5896",
   "metadata": {},
   "outputs": [
    {
     "data": {
      "image/png": "[encoded data removed]",
      "text/plain": [
       "<Figure size 640x480 with 1 Axes>"
      ]
     },
     "metadata": {},
     "output_type": "display_data"
    }
   ],
   "source": [
    "import matplotlib.pyplot as plt\n",
    "\n",
    "# Convertir los DataFrames de PySpark a pandas\n",
    "vendedoresNorte_pd = vendedoresNorte_df.toPandas()\n",
    "salariosNorte_pd = salariosNorte_df.toPandas()\n",
    "\n",
    "plt.bar(vendedoresNorte_pd[\"NOMBRE\"], salariosNorte_pd[\"SALARIO\"])\n",
    "plt.xlabel('Nombre del Vendedor')\n",
    "plt.ylabel('Salario')\n",
    "plt.title('Vendedores / Salario Region Norte')\n",
    "plt.xticks(rotation = 45)\n",
    "plt.show()"
   ]
  }
 ],
 "metadata": {
  "kernelspec": {
   "display_name": ".venv",
   "language": "python",
   "name": "python3"
  },
  "language_info": {
   "codemirror_mode": {
    "name": "ipython",
    "version": 3
   },
   "file_extension": ".py",
   "mimetype": "text/x-python",
   "name": "python",
   "nbconvert_exporter": "python",
   "pygments_lexer": "ipython3",
   "version": "3.8.10"
  }
 },
 "nbformat": 4,
 "nbformat_minor": 5
}
