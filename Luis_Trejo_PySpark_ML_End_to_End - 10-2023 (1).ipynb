{
  "nbformat": 4,
  "nbformat_minor": 0,
  "metadata": {
    "colab": {
      "provenance": [],
      "collapsed_sections": []
    },
    "kernelspec": {
      "name": "python3",
      "display_name": "Python 3"
    },
    "language_info": {
      "name": "python"
    }
  },
  "cells": [
    {
      "cell_type": "markdown",
      "source": [
        "# End-to-end Machine Learning PySpark Tutorial\n",
        "https://www.datacamp.com/tutorial/pyspark-tutorial-getting-started-with-pyspark\n",
        "\n",
        "Customer segmentation is a marketing technique companies use  to identify and group users who display similar characteristics. For instance, if you visit Starbucks only during the summer to purchase cold beverages, you can be segmented as a “seasonal shopper” and enticed with special promotions curated for  the summer season. \n",
        "\n",
        "Data scientists usually build unsupervised machine learning algorithms such as K-Means clustering or hierarchical clustering to perform customer segmentation. These models are great at identifying similar patterns between user groups that often go unnoticed by the human eye. \n",
        "\n",
        "In this tutorial, we will use K-Means clustering to perform customer segmentation on the e-commerce dataset. \n"
      ],
      "metadata": {
        "id": "kbRRaZlBt6Nh"
      }
    },
    {
      "cell_type": "markdown",
      "source": [
        "By the end of this tutorial, you will be familiar with the following concepts:\n",
        "\n",
        "\n",
        "\n",
        "*   Reading csv files with PySpark \n",
        "*   Exploratory Data Analysis with PySpark\n",
        "*   Grouping and sorting data\n",
        "*   Performing arithmetic operations\n",
        "*   Aggregating datasets\n",
        "*   Data Pre-Processing with PySpark\n",
        "*   Working with datetime values\n",
        "*   Type conversion\n",
        "*   Joining two dataframes\n",
        "*   The rank() function\n",
        "*   Creating a feature vector\n",
        "*   Standardizing data\n",
        "*   Building a K-Means clustering model\n",
        "*   Interpreting the model"
      ],
      "metadata": {
        "id": "LmspIOWW45g3"
      }
    },
    {
      "cell_type": "markdown",
      "source": [
        "##Paso 1: Configuración del entorno de PySpark en Colab"
      ],
      "metadata": {
        "id": "K6Iv32T_kgRf"
      }
    },
    {
      "cell_type": "code",
      "execution_count": null,
      "metadata": {
        "colab": {
          "base_uri": "https://localhost:8080/",
          "height": 726
        },
        "id": "sKfMHXDwiZqF",
        "outputId": "9019564a-e9de-4cf6-ceff-b7d57b149228"
      },
      "outputs": [
        {
          "output_type": "stream",
          "name": "stdout",
          "text": [
            "Get:1 https://cloud.r-project.org/bin/linux/ubuntu bionic-cran40/ InRelease [3,626 B]\n",
            "Get:2 http://security.ubuntu.com/ubuntu bionic-security InRelease [88.7 kB]\n",
            "Ign:3 https://developer.download.nvidia.com/compute/machine-learning/repos/ubuntu1804/x86_64  InRelease\n",
            "Hit:4 http://ppa.launchpad.net/c2d4u.team/c2d4u4.0+/ubuntu bionic InRelease\n",
            "Get:5 https://developer.download.nvidia.com/compute/cuda/repos/ubuntu1804/x86_64  InRelease [1,581 B]\n",
            "Hit:6 https://developer.download.nvidia.com/compute/machine-learning/repos/ubuntu1804/x86_64  Release\n",
            "Get:7 https://developer.download.nvidia.com/compute/cuda/repos/ubuntu1804/x86_64  Packages [913 kB]\n",
            "Hit:8 http://archive.ubuntu.com/ubuntu bionic InRelease\n",
            "Get:10 http://archive.ubuntu.com/ubuntu bionic-updates InRelease [88.7 kB]\n",
            "Hit:11 http://ppa.launchpad.net/cran/libgit2/ubuntu bionic InRelease\n",
            "Get:12 http://security.ubuntu.com/ubuntu bionic-security/main amd64 Packages [2,990 kB]\n",
            "Hit:13 http://ppa.launchpad.net/deadsnakes/ppa/ubuntu bionic InRelease\n",
            "Get:14 http://archive.ubuntu.com/ubuntu bionic-backports InRelease [83.3 kB]\n",
            "Get:15 http://ppa.launchpad.net/graphics-drivers/ppa/ubuntu bionic InRelease [21.3 kB]\n",
            "Get:16 http://archive.ubuntu.com/ubuntu bionic-updates/universe amd64 Packages [2,322 kB]\n",
            "Get:17 http://security.ubuntu.com/ubuntu bionic-security/universe amd64 Packages [1,545 kB]\n",
            "Get:18 http://ppa.launchpad.net/graphics-drivers/ppa/ubuntu bionic/main amd64 Packages [48.3 kB]\n",
            "Get:19 http://archive.ubuntu.com/ubuntu bionic-updates/main amd64 Packages [3,422 kB]\n",
            "Fetched 11.5 MB in 3s (3,382 kB/s)\n",
            "Reading package lists... Done\n",
            "Building dependency tree       \n",
            "Reading state information... Done\n",
            "20 packages can be upgraded. Run 'apt list --upgradable' to see them.\n",
            "Looking in indexes: https://pypi.org/simple, https://us-python.pkg.dev/colab-wheels/public/simple/\n",
            "Collecting pyspark\n",
            "  Downloading pyspark-3.3.0.tar.gz (281.3 MB)\n",
            "\u001b[K     |████████████████████████████████| 281.3 MB 45 kB/s \n",
            "\u001b[?25hCollecting py4j==0.10.9.5\n",
            "  Downloading py4j-0.10.9.5-py2.py3-none-any.whl (199 kB)\n",
            "\u001b[K     |████████████████████████████████| 199 kB 29.0 MB/s \n",
            "\u001b[?25hBuilding wheels for collected packages: pyspark\n",
            "  Building wheel for pyspark (setup.py) ... \u001b[?25l\u001b[?25hdone\n",
            "  Created wheel for pyspark: filename=pyspark-3.3.0-py2.py3-none-any.whl size=281764026 sha256=06a03032f78c7f2200e8ae4999cd3331f7476fdc9f9b6bc50cf419597fac0117\n",
            "  Stored in directory: /root/.cache/pip/wheels/7a/8e/1b/f73a52650d2e5f337708d9f6a1750d451a7349a867f928b885\n",
            "Successfully built pyspark\n",
            "Installing collected packages: py4j, pyspark\n",
            "Successfully installed py4j-0.10.9.5 pyspark-3.3.0\n"
          ]
        },
        {
          "output_type": "execute_result",
          "data": {
            "text/plain": [
              "'/content/spark-3.2.2-bin-hadoop3.2'"
            ],
            "application/vnd.google.colaboratory.intrinsic+json": {
              "type": "string"
            }
          },
          "metadata": {},
          "execution_count": 1
        }
      ],
      "source": [
        "#Bibliotecas para poder trabajar con Spark\n",
        "!sudo apt update\n",
        "!apt-get install openjdk-8-jdk-headless -qq > /dev/null\n",
        "!wget -q https://downloads.apache.org/spark/spark-3.2.2/spark-3.2.2-bin-hadoop3.2.tgz\n",
        "!tar xf spark-3.2.2-bin-hadoop3.2.tgz  \n",
        "#Configuración de Spark con Python\n",
        "!pip install -q findspark\n",
        "!pip install pyspark\n",
        "\n",
        "#Estableciendo variable de entorno\n",
        "import os\n",
        "os.environ[\"JAVA_HOME\"] = \"/usr/lib/jvm/java-8-openjdk-amd64\"\n",
        "os.environ[\"SPARK_HOME\"] = \"/content/spark-3.2.2-bin-hadoop3.2\"\n",
        "\n",
        "#Buscando e inicializando la instalación de Spark\n",
        "import findspark\n",
        "findspark.init()\n",
        "findspark.find()"
      ]
    },
    {
      "cell_type": "markdown",
      "source": [
        "# Paso 2: Crear la sesión de trabajo de Spark\n",
        "\n",
        "Ya seleccionado y visto el conjunto de datos comencemos a trabajar con PySpark. Para comenzar a trabajar con PySpark, debemos iniciar la sesión de Spark. Para esto realizaremos lo siguiente:\n",
        "\n",
        "Importar SparkSession\n",
        "Crear la sesión"
      ],
      "metadata": {
        "id": "w0AdI1cIBq82"
      }
    },
    {
      "cell_type": "markdown",
      "source": [
        "# Iniciar Sesión"
      ],
      "metadata": {
        "id": "_dilmvumB7CL"
      }
    },
    {
      "cell_type": "code",
      "source": [
        "#Verificar la funcionalidad de Pyspark \n",
        "from pyspark.sql import SparkSession\n",
        "spark = SparkSession.builder.appName('PySpark_LuisTrejo1').getOrCreate()\n",
        "spark"
      ],
      "metadata": {
        "colab": {
          "base_uri": "https://localhost:8080/",
          "height": 221
        },
        "id": "7GTkQzcVCHpR",
        "outputId": "2018904f-aa56-4c92-9f7c-f86fafcaaa21"
      },
      "execution_count": null,
      "outputs": [
        {
          "output_type": "execute_result",
          "data": {
            "text/plain": [
              "<pyspark.sql.session.SparkSession at 0x7f4449ba8c90>"
            ],
            "text/html": [
              "\n",
              "            <div>\n",
              "                <p><b>SparkSession - in-memory</b></p>\n",
              "                \n",
              "        <div>\n",
              "            <p><b>SparkContext</b></p>\n",
              "\n",
              "            <p><a href=\"http://deaf6f8811ad:4040\">Spark UI</a></p>\n",
              "\n",
              "            <dl>\n",
              "              <dt>Version</dt>\n",
              "                <dd><code>v3.2.2</code></dd>\n",
              "              <dt>Master</dt>\n",
              "                <dd><code>local[*]</code></dd>\n",
              "              <dt>AppName</dt>\n",
              "                <dd><code>PySpark_LuisTrejo1</code></dd>\n",
              "            </dl>\n",
              "        </div>\n",
              "        \n",
              "            </div>\n",
              "        "
            ]
          },
          "metadata": {},
          "execution_count": 2
        }
      ]
    },
    {
      "cell_type": "markdown",
      "source": [
        "#Step 2: Creating the DataFrame\n",
        "Note that we defined an escape character to avoid commas in the .csv file when parsing."
      ],
      "metadata": {
        "id": "FFgGVz3r6fOx"
      }
    },
    {
      "cell_type": "code",
      "source": [
        "df = spark.read.csv('datacamp_ecommerce1D.csv',header=True,escape=\"\\\"\")\n"
      ],
      "metadata": {
        "id": "kKU96Z0LF8wQ"
      },
      "execution_count": null,
      "outputs": []
    },
    {
      "cell_type": "code",
      "source": [
        "df.show()"
      ],
      "metadata": {
        "colab": {
          "base_uri": "https://localhost:8080/"
        },
        "id": "1Oshy15JHD2_",
        "outputId": "b066ab0d-37a7-4a8f-99ce-cc7c8ce05618"
      },
      "execution_count": null,
      "outputs": [
        {
          "output_type": "stream",
          "name": "stdout",
          "text": [
            "+---------+---------+--------------------+--------+----------------+---------+----------+--------------+\n",
            "|InvoiceNo|StockCode|         Description|Quantity|     InvoiceDate|UnitPrice|CustomerID|       Country|\n",
            "+---------+---------+--------------------+--------+----------------+---------+----------+--------------+\n",
            "|   536365|   85123A|WHITE HANGING HEA...|       6|01/12/2010 08:26|     2.55|     17850|United Kingdom|\n",
            "|   536365|    71053| WHITE METAL LANTERN|       6|01/12/2010 08:26|     3.39|     17850|United Kingdom|\n",
            "|   536365|   84406B|CREAM CUPID HEART...|       8|01/12/2010 08:26|     2.75|     17850|United Kingdom|\n",
            "|   536365|   84029G|KNITTED UNION FLA...|       6|01/12/2010 08:26|     3.39|     17850|United Kingdom|\n",
            "|   536365|   84029E|RED WOOLLY HOTTIE...|       6|01/12/2010 08:26|     3.39|     17850|United Kingdom|\n",
            "|   536365|    22752|SET 7 BABUSHKA NE...|       2|01/12/2010 08:26|     7.65|     17850|United Kingdom|\n",
            "|   536365|    21730|GLASS STAR FROSTE...|       6|01/12/2010 08:26|     4.25|     17850|United Kingdom|\n",
            "|   536366|    22633|HAND WARMER UNION...|       6|01/12/2010 08:28|     1.85|     17850|United Kingdom|\n",
            "|   536366|    22632|HAND WARMER RED P...|       6|01/12/2010 08:28|     1.85|     17850|United Kingdom|\n",
            "|   536367|    84879|ASSORTED COLOUR B...|      32|01/12/2010 08:34|     1.69|     13047|United Kingdom|\n",
            "|   536367|    22745|POPPY'S PLAYHOUSE...|       6|01/12/2010 08:34|      2.1|     13047|United Kingdom|\n",
            "|   536367|    22748|POPPY'S PLAYHOUSE...|       6|01/12/2010 08:34|      2.1|     13047|United Kingdom|\n",
            "|   536367|    22749|FELTCRAFT PRINCES...|       8|01/12/2010 08:34|     3.75|     13047|United Kingdom|\n",
            "|   536367|    22310|IVORY KNITTED MUG...|       6|01/12/2010 08:34|     1.65|     13047|United Kingdom|\n",
            "|   536367|    84969|BOX OF 6 ASSORTED...|       6|01/12/2010 08:34|     4.25|     13047|United Kingdom|\n",
            "|   536367|    22623|BOX OF VINTAGE JI...|       3|01/12/2010 08:34|     4.95|     13047|United Kingdom|\n",
            "|   536367|    22622|BOX OF VINTAGE AL...|       2|01/12/2010 08:34|     9.95|     13047|United Kingdom|\n",
            "|   536367|    21754|HOME BUILDING BLO...|       3|01/12/2010 08:34|     5.95|     13047|United Kingdom|\n",
            "|   536367|    21755|LOVE BUILDING BLO...|       3|01/12/2010 08:34|     5.95|     13047|United Kingdom|\n",
            "|   536367|    21777|RECIPE BOX WITH M...|       4|01/12/2010 08:34|     7.95|     13047|United Kingdom|\n",
            "+---------+---------+--------------------+--------+----------------+---------+----------+--------------+\n",
            "only showing top 20 rows\n",
            "\n"
          ]
        }
      ]
    },
    {
      "cell_type": "markdown",
      "source": [
        "#Step 3: Exploratory Data Analysis"
      ],
      "metadata": {
        "id": "u36R2VD7H1AS"
      }
    },
    {
      "cell_type": "code",
      "source": [
        "#Let’s start by counting the number of rows in the dataframe:\n",
        "df.count()  # Answer: 2,500\n"
      ],
      "metadata": {
        "colab": {
          "base_uri": "https://localhost:8080/"
        },
        "id": "4h8eIUIsIDHk",
        "outputId": "ee23634e-4d4c-487c-eac9-12074ddad605"
      },
      "execution_count": null,
      "outputs": [
        {
          "output_type": "execute_result",
          "data": {
            "text/plain": [
              "3108"
            ]
          },
          "metadata": {},
          "execution_count": 13
        }
      ]
    },
    {
      "cell_type": "markdown",
      "source": [
        "How many unique customers are present in the dataframe?"
      ],
      "metadata": {
        "id": "m6K5C8xa_GrE"
      }
    },
    {
      "cell_type": "code",
      "source": [
        "df.select('CustomerID').distinct().count() # Answer: 95"
      ],
      "metadata": {
        "colab": {
          "base_uri": "https://localhost:8080/"
        },
        "id": "ntcb8TQPJOLZ",
        "outputId": "a814449e-fbfd-461e-a490-0967710fa6d9"
      },
      "execution_count": null,
      "outputs": [
        {
          "output_type": "execute_result",
          "data": {
            "text/plain": [
              "99"
            ]
          },
          "metadata": {},
          "execution_count": 15
        }
      ]
    },
    {
      "cell_type": "markdown",
      "source": [
        "What country do most purchases come from?\n",
        "To find the country from which most purchases are made, we need to use the groupBy() clause in PySpark:"
      ],
      "metadata": {
        "id": "gB5xakxCJw1N"
      }
    },
    {
      "cell_type": "code",
      "source": [
        "from pyspark.sql.functions import *\n",
        "from pyspark.sql.types import *\n",
        "\n",
        "df.groupBy('Country').agg(countDistinct('CustomerID').alias('country_count')).show()"
      ],
      "metadata": {
        "colab": {
          "base_uri": "https://localhost:8080/"
        },
        "id": "Jd6EThdVJ2pt",
        "outputId": "52618533-74a0-49c0-ba6a-db115679c45e"
      },
      "execution_count": null,
      "outputs": [
        {
          "output_type": "stream",
          "name": "stdout",
          "text": [
            "+--------------+-------------+\n",
            "|       Country|country_count|\n",
            "+--------------+-------------+\n",
            "|       Germany|            2|\n",
            "|        France|            1|\n",
            "|          EIRE|            2|\n",
            "|        Norway|            2|\n",
            "|     Australia|            1|\n",
            "|United Kingdom|           95|\n",
            "|   Netherlands|            1|\n",
            "+--------------+-------------+\n",
            "\n"
          ]
        }
      ]
    },
    {
      "cell_type": "code",
      "source": [
        "df.groupBy('Country').agg(countDistinct('CustomerID').alias('country_count')).orderBy(desc('country_count')).show()"
      ],
      "metadata": {
        "colab": {
          "base_uri": "https://localhost:8080/"
        },
        "id": "ASaoQKTCK-cF",
        "outputId": "4407a73a-761f-45e5-e217-27cdffbdfc71"
      },
      "execution_count": null,
      "outputs": [
        {
          "output_type": "stream",
          "name": "stdout",
          "text": [
            "+--------------+-------------+\n",
            "|       Country|country_count|\n",
            "+--------------+-------------+\n",
            "|United Kingdom|           95|\n",
            "|       Germany|            2|\n",
            "|        Norway|            2|\n",
            "|          EIRE|            2|\n",
            "|        France|            1|\n",
            "|     Australia|            1|\n",
            "|   Netherlands|            1|\n",
            "+--------------+-------------+\n",
            "\n"
          ]
        }
      ]
    },
    {
      "cell_type": "markdown",
      "source": [
        "# When was the most recent purchase made by a customer on the e-commerce platform?\n",
        "To find when the latest purchase was made on the platform, we need to convert the “InvoiceDate” column into a timestamp format and use the max() function in Pyspark:"
      ],
      "metadata": {
        "id": "-D3eo5mWL84A"
      }
    },
    {
      "cell_type": "code",
      "source": [
        "#df = df.withColumn('date',to_timestamp(\"InvoiceDate\", 'MM/dd/yy HH:mm'))\n",
        "#spark.sql(\"set spark.sql.legacy.timeParserPolicy=LEGACY\")\n",
        "df = df.withColumn('date',to_timestamp(\"InvoiceDate\", 'dd/MM/yy HH:mm'))\n",
        "df.select(max(\"date\")).show()"
      ],
      "metadata": {
        "colab": {
          "base_uri": "https://localhost:8080/"
        },
        "id": "UyK-B8wvMKbI",
        "outputId": "6e6c8202-4771-42a7-861e-ff7488c12e5e"
      },
      "execution_count": null,
      "outputs": [
        {
          "output_type": "stream",
          "name": "stdout",
          "text": [
            "+-------------------+\n",
            "|          max(date)|\n",
            "+-------------------+\n",
            "|2010-12-01 17:35:00|\n",
            "+-------------------+\n",
            "\n"
          ]
        }
      ]
    },
    {
      "cell_type": "code",
      "source": [
        "df.printSchema()"
      ],
      "metadata": {
        "colab": {
          "base_uri": "https://localhost:8080/"
        },
        "id": "cfgzA7h2NuVa",
        "outputId": "8d35ffef-d227-491d-dc64-56db1842b8d3"
      },
      "execution_count": null,
      "outputs": [
        {
          "output_type": "stream",
          "name": "stdout",
          "text": [
            "root\n",
            " |-- InvoiceNo: string (nullable = true)\n",
            " |-- StockCode: string (nullable = true)\n",
            " |-- Description: string (nullable = true)\n",
            " |-- Quantity: string (nullable = true)\n",
            " |-- InvoiceDate: string (nullable = true)\n",
            " |-- UnitPrice: string (nullable = true)\n",
            " |-- CustomerID: string (nullable = true)\n",
            " |-- Country: string (nullable = true)\n",
            " |-- date: timestamp (nullable = true)\n",
            "\n"
          ]
        }
      ]
    },
    {
      "cell_type": "markdown",
      "source": [
        "When was the earliest purchase made by a customer on the e-commerce platform?"
      ],
      "metadata": {
        "id": "ATxHVi4SRjfP"
      }
    },
    {
      "cell_type": "code",
      "source": [
        "df.select(min(\"date\")).show()"
      ],
      "metadata": {
        "colab": {
          "base_uri": "https://localhost:8080/"
        },
        "id": "ejYqeXwnRjLj",
        "outputId": "f816a8fb-2644-40ee-9cfe-1f7cbc0d71cd"
      },
      "execution_count": null,
      "outputs": [
        {
          "output_type": "stream",
          "name": "stdout",
          "text": [
            "+-------------------+\n",
            "|          min(date)|\n",
            "+-------------------+\n",
            "|2010-12-01 08:26:00|\n",
            "+-------------------+\n",
            "\n"
          ]
        }
      ]
    },
    {
      "cell_type": "markdown",
      "source": [
        "# Step 4: Data Pre-processing"
      ],
      "metadata": {
        "id": "2QS1cDfdebaH"
      }
    },
    {
      "cell_type": "markdown",
      "source": [
        "Now that we have analyzed the dataset and have a better understanding of each data point, we need to prepare the data to feed into the machine learning algorithm."
      ],
      "metadata": {
        "id": "J0Am5rTJeeYf"
      }
    },
    {
      "cell_type": "markdown",
      "source": [
        "From the dataset above, we need to create multiple customer segments based on each user’s purchase behavior.  The variables in this dataset are in a format that cannot be easily ingested into the customer segmentation model. \n",
        "\n",
        "These features individually do not tell us much about customer purchase behavior. Due to this, we will use the existing variables to derive three new informative features - recency, frequency, and monetary value (RFM). \n",
        "\n",
        "**RFM** is commonly used in marketing to evaluate a client’s value based on their:\n",
        "*   Recency: How recently has each customer made a purchase?\n",
        "*   Frequency: How often have they bought something?\n",
        "*   Monetary Value: How much money do they spend on average when making purchases?\n",
        "\n",
        "We will now preprocess the dataframe to create the above variables."
      ],
      "metadata": {
        "id": "W2q0OJRlfCAN"
      }
    },
    {
      "cell_type": "markdown",
      "source": [
        "# **Recency**\n",
        "First, let’s calculate the value of recency - the latest date and time a purchase was made on the platform. This can be achieved in two steps:\n",
        "\n",
        "**i) Assign a recency score to each customer**\n",
        "\n",
        "We will subtract every date in the dataframe from the earliest date. This will tell us how recently a customer was seen in the dataframe. A value of 0 indicates the lowest recency, as it will be assigned to the person who was seen making a purchase on the earliest date."
      ],
      "metadata": {
        "id": "ZW9VN5NMfDni"
      }
    },
    {
      "cell_type": "code",
      "source": [
        "df = df.withColumn(\"from_date\", lit(\"01/12/10 08:26\"))\n",
        "df.show()\n"
      ],
      "metadata": {
        "colab": {
          "base_uri": "https://localhost:8080/"
        },
        "id": "r0LiLzCMgMc9",
        "outputId": "3a8552b0-b6f4-428c-9f13-bfae06b1ae6d"
      },
      "execution_count": null,
      "outputs": [
        {
          "output_type": "stream",
          "name": "stdout",
          "text": [
            "+---------+---------+--------------------+--------+----------------+---------+----------+--------------+-------------------+--------------+\n",
            "|InvoiceNo|StockCode|         Description|Quantity|     InvoiceDate|UnitPrice|CustomerID|       Country|               date|     from_date|\n",
            "+---------+---------+--------------------+--------+----------------+---------+----------+--------------+-------------------+--------------+\n",
            "|   536365|   85123A|WHITE HANGING HEA...|       6|01/12/2010 08:26|     2.55|     17850|United Kingdom|2010-12-01 08:26:00|01/12/10 08:26|\n",
            "|   536365|    71053| WHITE METAL LANTERN|       6|01/12/2010 08:26|     3.39|     17850|United Kingdom|2010-12-01 08:26:00|01/12/10 08:26|\n",
            "|   536365|   84406B|CREAM CUPID HEART...|       8|01/12/2010 08:26|     2.75|     17850|United Kingdom|2010-12-01 08:26:00|01/12/10 08:26|\n",
            "|   536365|   84029G|KNITTED UNION FLA...|       6|01/12/2010 08:26|     3.39|     17850|United Kingdom|2010-12-01 08:26:00|01/12/10 08:26|\n",
            "|   536365|   84029E|RED WOOLLY HOTTIE...|       6|01/12/2010 08:26|     3.39|     17850|United Kingdom|2010-12-01 08:26:00|01/12/10 08:26|\n",
            "|   536365|    22752|SET 7 BABUSHKA NE...|       2|01/12/2010 08:26|     7.65|     17850|United Kingdom|2010-12-01 08:26:00|01/12/10 08:26|\n",
            "|   536365|    21730|GLASS STAR FROSTE...|       6|01/12/2010 08:26|     4.25|     17850|United Kingdom|2010-12-01 08:26:00|01/12/10 08:26|\n",
            "|   536366|    22633|HAND WARMER UNION...|       6|01/12/2010 08:28|     1.85|     17850|United Kingdom|2010-12-01 08:28:00|01/12/10 08:26|\n",
            "|   536366|    22632|HAND WARMER RED P...|       6|01/12/2010 08:28|     1.85|     17850|United Kingdom|2010-12-01 08:28:00|01/12/10 08:26|\n",
            "|   536367|    84879|ASSORTED COLOUR B...|      32|01/12/2010 08:34|     1.69|     13047|United Kingdom|2010-12-01 08:34:00|01/12/10 08:26|\n",
            "|   536367|    22745|POPPY'S PLAYHOUSE...|       6|01/12/2010 08:34|      2.1|     13047|United Kingdom|2010-12-01 08:34:00|01/12/10 08:26|\n",
            "|   536367|    22748|POPPY'S PLAYHOUSE...|       6|01/12/2010 08:34|      2.1|     13047|United Kingdom|2010-12-01 08:34:00|01/12/10 08:26|\n",
            "|   536367|    22749|FELTCRAFT PRINCES...|       8|01/12/2010 08:34|     3.75|     13047|United Kingdom|2010-12-01 08:34:00|01/12/10 08:26|\n",
            "|   536367|    22310|IVORY KNITTED MUG...|       6|01/12/2010 08:34|     1.65|     13047|United Kingdom|2010-12-01 08:34:00|01/12/10 08:26|\n",
            "|   536367|    84969|BOX OF 6 ASSORTED...|       6|01/12/2010 08:34|     4.25|     13047|United Kingdom|2010-12-01 08:34:00|01/12/10 08:26|\n",
            "|   536367|    22623|BOX OF VINTAGE JI...|       3|01/12/2010 08:34|     4.95|     13047|United Kingdom|2010-12-01 08:34:00|01/12/10 08:26|\n",
            "|   536367|    22622|BOX OF VINTAGE AL...|       2|01/12/2010 08:34|     9.95|     13047|United Kingdom|2010-12-01 08:34:00|01/12/10 08:26|\n",
            "|   536367|    21754|HOME BUILDING BLO...|       3|01/12/2010 08:34|     5.95|     13047|United Kingdom|2010-12-01 08:34:00|01/12/10 08:26|\n",
            "|   536367|    21755|LOVE BUILDING BLO...|       3|01/12/2010 08:34|     5.95|     13047|United Kingdom|2010-12-01 08:34:00|01/12/10 08:26|\n",
            "|   536367|    21777|RECIPE BOX WITH M...|       4|01/12/2010 08:34|     7.95|     13047|United Kingdom|2010-12-01 08:34:00|01/12/10 08:26|\n",
            "+---------+---------+--------------------+--------+----------------+---------+----------+--------------+-------------------+--------------+\n",
            "only showing top 20 rows\n",
            "\n"
          ]
        }
      ]
    },
    {
      "cell_type": "code",
      "source": [
        "df = df.withColumn('from_date',to_timestamp(\"from_date\", 'dd/MM/yy HH:mm'))\n",
        "df.show()"
      ],
      "metadata": {
        "colab": {
          "base_uri": "https://localhost:8080/"
        },
        "id": "m8N8fH6qiDDd",
        "outputId": "a3f3896d-6017-44fc-b86a-95f53d2c9ba7"
      },
      "execution_count": null,
      "outputs": [
        {
          "output_type": "stream",
          "name": "stdout",
          "text": [
            "+---------+---------+--------------------+--------+----------------+---------+----------+--------------+-------------------+-------------------+\n",
            "|InvoiceNo|StockCode|         Description|Quantity|     InvoiceDate|UnitPrice|CustomerID|       Country|               date|          from_date|\n",
            "+---------+---------+--------------------+--------+----------------+---------+----------+--------------+-------------------+-------------------+\n",
            "|   536365|   85123A|WHITE HANGING HEA...|       6|01/12/2010 08:26|     2.55|     17850|United Kingdom|2010-12-01 08:26:00|2010-12-01 08:26:00|\n",
            "|   536365|    71053| WHITE METAL LANTERN|       6|01/12/2010 08:26|     3.39|     17850|United Kingdom|2010-12-01 08:26:00|2010-12-01 08:26:00|\n",
            "|   536365|   84406B|CREAM CUPID HEART...|       8|01/12/2010 08:26|     2.75|     17850|United Kingdom|2010-12-01 08:26:00|2010-12-01 08:26:00|\n",
            "|   536365|   84029G|KNITTED UNION FLA...|       6|01/12/2010 08:26|     3.39|     17850|United Kingdom|2010-12-01 08:26:00|2010-12-01 08:26:00|\n",
            "|   536365|   84029E|RED WOOLLY HOTTIE...|       6|01/12/2010 08:26|     3.39|     17850|United Kingdom|2010-12-01 08:26:00|2010-12-01 08:26:00|\n",
            "|   536365|    22752|SET 7 BABUSHKA NE...|       2|01/12/2010 08:26|     7.65|     17850|United Kingdom|2010-12-01 08:26:00|2010-12-01 08:26:00|\n",
            "|   536365|    21730|GLASS STAR FROSTE...|       6|01/12/2010 08:26|     4.25|     17850|United Kingdom|2010-12-01 08:26:00|2010-12-01 08:26:00|\n",
            "|   536366|    22633|HAND WARMER UNION...|       6|01/12/2010 08:28|     1.85|     17850|United Kingdom|2010-12-01 08:28:00|2010-12-01 08:26:00|\n",
            "|   536366|    22632|HAND WARMER RED P...|       6|01/12/2010 08:28|     1.85|     17850|United Kingdom|2010-12-01 08:28:00|2010-12-01 08:26:00|\n",
            "|   536367|    84879|ASSORTED COLOUR B...|      32|01/12/2010 08:34|     1.69|     13047|United Kingdom|2010-12-01 08:34:00|2010-12-01 08:26:00|\n",
            "|   536367|    22745|POPPY'S PLAYHOUSE...|       6|01/12/2010 08:34|      2.1|     13047|United Kingdom|2010-12-01 08:34:00|2010-12-01 08:26:00|\n",
            "|   536367|    22748|POPPY'S PLAYHOUSE...|       6|01/12/2010 08:34|      2.1|     13047|United Kingdom|2010-12-01 08:34:00|2010-12-01 08:26:00|\n",
            "|   536367|    22749|FELTCRAFT PRINCES...|       8|01/12/2010 08:34|     3.75|     13047|United Kingdom|2010-12-01 08:34:00|2010-12-01 08:26:00|\n",
            "|   536367|    22310|IVORY KNITTED MUG...|       6|01/12/2010 08:34|     1.65|     13047|United Kingdom|2010-12-01 08:34:00|2010-12-01 08:26:00|\n",
            "|   536367|    84969|BOX OF 6 ASSORTED...|       6|01/12/2010 08:34|     4.25|     13047|United Kingdom|2010-12-01 08:34:00|2010-12-01 08:26:00|\n",
            "|   536367|    22623|BOX OF VINTAGE JI...|       3|01/12/2010 08:34|     4.95|     13047|United Kingdom|2010-12-01 08:34:00|2010-12-01 08:26:00|\n",
            "|   536367|    22622|BOX OF VINTAGE AL...|       2|01/12/2010 08:34|     9.95|     13047|United Kingdom|2010-12-01 08:34:00|2010-12-01 08:26:00|\n",
            "|   536367|    21754|HOME BUILDING BLO...|       3|01/12/2010 08:34|     5.95|     13047|United Kingdom|2010-12-01 08:34:00|2010-12-01 08:26:00|\n",
            "|   536367|    21755|LOVE BUILDING BLO...|       3|01/12/2010 08:34|     5.95|     13047|United Kingdom|2010-12-01 08:34:00|2010-12-01 08:26:00|\n",
            "|   536367|    21777|RECIPE BOX WITH M...|       4|01/12/2010 08:34|     7.95|     13047|United Kingdom|2010-12-01 08:34:00|2010-12-01 08:26:00|\n",
            "+---------+---------+--------------------+--------+----------------+---------+----------+--------------+-------------------+-------------------+\n",
            "only showing top 20 rows\n",
            "\n"
          ]
        }
      ]
    },
    {
      "cell_type": "code",
      "source": [
        "df2=df.withColumn('from_date',to_timestamp(col('from_date'))).withColumn('recency',col(\"date\").cast(\"long\") - col('from_date').cast(\"long\"))\n",
        "# It can be simplifieds. To check\n",
        "#df2=df.withColumn('recency',col(\"date\").cast(\"long\") - col('from_date').cast(\"long\"))\n",
        "df2.show()\n",
        "\n",
        "\n"
      ],
      "metadata": {
        "colab": {
          "base_uri": "https://localhost:8080/"
        },
        "id": "V0aFCUXooge5",
        "outputId": "d2763afd-b5fa-42cd-f5cc-3911676975bf"
      },
      "execution_count": null,
      "outputs": [
        {
          "output_type": "stream",
          "name": "stdout",
          "text": [
            "+---------+---------+--------------------+--------+----------------+---------+----------+--------------+-------------------+-------------------+-------+\n",
            "|InvoiceNo|StockCode|         Description|Quantity|     InvoiceDate|UnitPrice|CustomerID|       Country|               date|          from_date|recency|\n",
            "+---------+---------+--------------------+--------+----------------+---------+----------+--------------+-------------------+-------------------+-------+\n",
            "|   536365|   85123A|WHITE HANGING HEA...|       6|01/12/2010 08:26|     2.55|     17850|United Kingdom|2010-12-01 08:26:00|2010-12-01 08:26:00|      0|\n",
            "|   536365|    71053| WHITE METAL LANTERN|       6|01/12/2010 08:26|     3.39|     17850|United Kingdom|2010-12-01 08:26:00|2010-12-01 08:26:00|      0|\n",
            "|   536365|   84406B|CREAM CUPID HEART...|       8|01/12/2010 08:26|     2.75|     17850|United Kingdom|2010-12-01 08:26:00|2010-12-01 08:26:00|      0|\n",
            "|   536365|   84029G|KNITTED UNION FLA...|       6|01/12/2010 08:26|     3.39|     17850|United Kingdom|2010-12-01 08:26:00|2010-12-01 08:26:00|      0|\n",
            "|   536365|   84029E|RED WOOLLY HOTTIE...|       6|01/12/2010 08:26|     3.39|     17850|United Kingdom|2010-12-01 08:26:00|2010-12-01 08:26:00|      0|\n",
            "|   536365|    22752|SET 7 BABUSHKA NE...|       2|01/12/2010 08:26|     7.65|     17850|United Kingdom|2010-12-01 08:26:00|2010-12-01 08:26:00|      0|\n",
            "|   536365|    21730|GLASS STAR FROSTE...|       6|01/12/2010 08:26|     4.25|     17850|United Kingdom|2010-12-01 08:26:00|2010-12-01 08:26:00|      0|\n",
            "|   536366|    22633|HAND WARMER UNION...|       6|01/12/2010 08:28|     1.85|     17850|United Kingdom|2010-12-01 08:28:00|2010-12-01 08:26:00|    120|\n",
            "|   536366|    22632|HAND WARMER RED P...|       6|01/12/2010 08:28|     1.85|     17850|United Kingdom|2010-12-01 08:28:00|2010-12-01 08:26:00|    120|\n",
            "|   536367|    84879|ASSORTED COLOUR B...|      32|01/12/2010 08:34|     1.69|     13047|United Kingdom|2010-12-01 08:34:00|2010-12-01 08:26:00|    480|\n",
            "|   536367|    22745|POPPY'S PLAYHOUSE...|       6|01/12/2010 08:34|      2.1|     13047|United Kingdom|2010-12-01 08:34:00|2010-12-01 08:26:00|    480|\n",
            "|   536367|    22748|POPPY'S PLAYHOUSE...|       6|01/12/2010 08:34|      2.1|     13047|United Kingdom|2010-12-01 08:34:00|2010-12-01 08:26:00|    480|\n",
            "|   536367|    22749|FELTCRAFT PRINCES...|       8|01/12/2010 08:34|     3.75|     13047|United Kingdom|2010-12-01 08:34:00|2010-12-01 08:26:00|    480|\n",
            "|   536367|    22310|IVORY KNITTED MUG...|       6|01/12/2010 08:34|     1.65|     13047|United Kingdom|2010-12-01 08:34:00|2010-12-01 08:26:00|    480|\n",
            "|   536367|    84969|BOX OF 6 ASSORTED...|       6|01/12/2010 08:34|     4.25|     13047|United Kingdom|2010-12-01 08:34:00|2010-12-01 08:26:00|    480|\n",
            "|   536367|    22623|BOX OF VINTAGE JI...|       3|01/12/2010 08:34|     4.95|     13047|United Kingdom|2010-12-01 08:34:00|2010-12-01 08:26:00|    480|\n",
            "|   536367|    22622|BOX OF VINTAGE AL...|       2|01/12/2010 08:34|     9.95|     13047|United Kingdom|2010-12-01 08:34:00|2010-12-01 08:26:00|    480|\n",
            "|   536367|    21754|HOME BUILDING BLO...|       3|01/12/2010 08:34|     5.95|     13047|United Kingdom|2010-12-01 08:34:00|2010-12-01 08:26:00|    480|\n",
            "|   536367|    21755|LOVE BUILDING BLO...|       3|01/12/2010 08:34|     5.95|     13047|United Kingdom|2010-12-01 08:34:00|2010-12-01 08:26:00|    480|\n",
            "|   536367|    21777|RECIPE BOX WITH M...|       4|01/12/2010 08:34|     7.95|     13047|United Kingdom|2010-12-01 08:34:00|2010-12-01 08:26:00|    480|\n",
            "+---------+---------+--------------------+--------+----------------+---------+----------+--------------+-------------------+-------------------+-------+\n",
            "only showing top 20 rows\n",
            "\n"
          ]
        }
      ]
    },
    {
      "cell_type": "markdown",
      "source": [
        "# ii) Select the most recent purchase\n",
        "\n",
        "One customer can make multiple purchases at different times. We need to select only the last time they were seen buying a product, as this is indicative of when the most recent purchase was made: "
      ],
      "metadata": {
        "id": "kQYWvE_aw2-N"
      }
    },
    {
      "cell_type": "code",
      "source": [
        "# This original sentence can be made in two clearer steps\n",
        "\n",
        "df2 = df2.join(df2.groupBy('CustomerID').agg(max('recency').alias('recency')),on='recency',how='leftsemi')\n",
        "df2.show()\n",
        "#latr = df2.groupBy('CustomerID').agg(max('recency').alias('recency'))\n",
        "#latr.show()"
      ],
      "metadata": {
        "colab": {
          "base_uri": "https://localhost:8080/"
        },
        "id": "cgShQlgTwh5Z",
        "outputId": "da728c71-c0e8-4a5c-dd92-d592aedd8857"
      },
      "execution_count": null,
      "outputs": [
        {
          "output_type": "stream",
          "name": "stdout",
          "text": [
            "+-------+---------+---------+--------------------+--------+----------------+---------+----------+--------------+-------------------+-------------------+\n",
            "|recency|InvoiceNo|StockCode|         Description|Quantity|     InvoiceDate|UnitPrice|CustomerID|       Country|               date|          from_date|\n",
            "+-------+---------+---------+--------------------+--------+----------------+---------+----------+--------------+-------------------+-------------------+\n",
            "|    540|   536369|    21756|BATH BUILDING BLO...|       3|01/12/2010 08:35|     5.95|     13047|United Kingdom|2010-12-01 08:35:00|2010-12-01 08:26:00|\n",
            "|   1140|   536370|    22728|ALARM CLOCK BAKEL...|      24|01/12/2010 08:45|     3.75|     12583|        France|2010-12-01 08:45:00|2010-12-01 08:26:00|\n",
            "|   1140|   536370|    22727|ALARM CLOCK BAKEL...|      24|01/12/2010 08:45|     3.75|     12583|        France|2010-12-01 08:45:00|2010-12-01 08:26:00|\n",
            "|   1140|   536370|    22726|ALARM CLOCK BAKEL...|      12|01/12/2010 08:45|     3.75|     12583|        France|2010-12-01 08:45:00|2010-12-01 08:26:00|\n",
            "|   1140|   536370|    21724|PANDA AND BUNNIES...|      12|01/12/2010 08:45|     0.85|     12583|        France|2010-12-01 08:45:00|2010-12-01 08:26:00|\n",
            "|   1140|   536370|    21883|    STARS GIFT TAPE |      24|01/12/2010 08:45|     0.65|     12583|        France|2010-12-01 08:45:00|2010-12-01 08:26:00|\n",
            "|   1140|   536370|    10002|INFLATABLE POLITI...|      48|01/12/2010 08:45|     0.85|     12583|        France|2010-12-01 08:45:00|2010-12-01 08:26:00|\n",
            "|   1140|   536370|    21791|VINTAGE HEADS AND...|      24|01/12/2010 08:45|     1.25|     12583|        France|2010-12-01 08:45:00|2010-12-01 08:26:00|\n",
            "|   1140|   536370|    21035|SET/2 RED RETROSP...|      18|01/12/2010 08:45|     2.95|     12583|        France|2010-12-01 08:45:00|2010-12-01 08:26:00|\n",
            "|   1140|   536370|    22326|ROUND SNACK BOXES...|      24|01/12/2010 08:45|     2.95|     12583|        France|2010-12-01 08:45:00|2010-12-01 08:26:00|\n",
            "|   1140|   536370|    22629| SPACEBOY LUNCH BOX |      24|01/12/2010 08:45|     1.95|     12583|        France|2010-12-01 08:45:00|2010-12-01 08:26:00|\n",
            "|   1140|   536370|    22659|LUNCH BOX I LOVE ...|      24|01/12/2010 08:45|     1.95|     12583|        France|2010-12-01 08:45:00|2010-12-01 08:26:00|\n",
            "|   1140|   536370|    22631|CIRCUS PARADE LUN...|      24|01/12/2010 08:45|     1.95|     12583|        France|2010-12-01 08:45:00|2010-12-01 08:26:00|\n",
            "|   1140|   536370|    22661|CHARLOTTE BAG DOL...|      20|01/12/2010 08:45|     0.85|     12583|        France|2010-12-01 08:45:00|2010-12-01 08:26:00|\n",
            "|   1140|   536370|    21731|RED TOADSTOOL LED...|      24|01/12/2010 08:45|     1.65|     12583|        France|2010-12-01 08:45:00|2010-12-01 08:26:00|\n",
            "|   1140|   536370|    22900| SET 2 TEA TOWELS...|      24|01/12/2010 08:45|     2.95|     12583|        France|2010-12-01 08:45:00|2010-12-01 08:26:00|\n",
            "|   1140|   536370|    21913|VINTAGE SEASIDE J...|      12|01/12/2010 08:45|     3.75|     12583|        France|2010-12-01 08:45:00|2010-12-01 08:26:00|\n",
            "|   1140|   536370|    22540|MINI JIGSAW CIRCU...|      24|01/12/2010 08:45|     0.42|     12583|        France|2010-12-01 08:45:00|2010-12-01 08:26:00|\n",
            "|   1140|   536370|    22544|MINI JIGSAW SPACEBOY|      24|01/12/2010 08:45|     0.42|     12583|        France|2010-12-01 08:45:00|2010-12-01 08:26:00|\n",
            "|   1140|   536370|    22492|MINI PAINT SET VI...|      36|01/12/2010 08:45|     0.65|     12583|        France|2010-12-01 08:45:00|2010-12-01 08:26:00|\n",
            "+-------+---------+---------+--------------------+--------+----------------+---------+----------+--------------+-------------------+-------------------+\n",
            "only showing top 20 rows\n",
            "\n"
          ]
        }
      ]
    },
    {
      "cell_type": "code",
      "source": [
        "#df2 = df2.join(latr,on='recency',how='leftsemi')\n",
        "#df2.show()"
      ],
      "metadata": {
        "colab": {
          "base_uri": "https://localhost:8080/"
        },
        "id": "hQ1CRRMxy3Mo",
        "outputId": "62591ee5-df84-40ff-d280-d180cf3fdf87"
      },
      "execution_count": null,
      "outputs": [
        {
          "output_type": "stream",
          "name": "stdout",
          "text": [
            "+-------+---------+---------+--------------------+--------+----------------+---------+----------+--------------+-------------------+-------------------+\n",
            "|recency|InvoiceNo|StockCode|         Description|Quantity|     InvoiceDate|UnitPrice|CustomerID|       Country|               date|          from_date|\n",
            "+-------+---------+---------+--------------------+--------+----------------+---------+----------+--------------+-------------------+-------------------+\n",
            "|   5220|   536384|    82484|WOOD BLACK BOARD ...|       3|01/12/2010 09:53|     6.45|     18074|United Kingdom|2010-01-12 09:53:00|2010-01-12 08:26:00|\n",
            "|   5220|   536384|    84755|COLOUR GLASS T-LI...|      48|01/12/2010 09:53|     0.65|     18074|United Kingdom|2010-01-12 09:53:00|2010-01-12 08:26:00|\n",
            "|   5220|   536384|    22464|HANGING METAL HEA...|      12|01/12/2010 09:53|     1.65|     18074|United Kingdom|2010-01-12 09:53:00|2010-01-12 08:26:00|\n",
            "|   5220|   536384|    21324|HANGING MEDINA LA...|       6|01/12/2010 09:53|     2.95|     18074|United Kingdom|2010-01-12 09:53:00|2010-01-12 08:26:00|\n",
            "|   5220|   536384|    22457|NATURAL SLATE HEA...|      12|01/12/2010 09:53|     2.95|     18074|United Kingdom|2010-01-12 09:53:00|2010-01-12 08:26:00|\n",
            "|   5220|   536384|    22469|HEART OF WICKER S...|      40|01/12/2010 09:53|     1.45|     18074|United Kingdom|2010-01-12 09:53:00|2010-01-12 08:26:00|\n",
            "|   5220|   536384|    22470|HEART OF WICKER L...|      40|01/12/2010 09:53|     2.55|     18074|United Kingdom|2010-01-12 09:53:00|2010-01-12 08:26:00|\n",
            "|   5220|   536384|    22224|WHITE LOVEBIRD LA...|       6|01/12/2010 09:53|     2.95|     18074|United Kingdom|2010-01-12 09:53:00|2010-01-12 08:26:00|\n",
            "|   5220|   536384|    21340|CLASSIC METAL BIR...|       2|01/12/2010 09:53|    12.75|     18074|United Kingdom|2010-01-12 09:53:00|2010-01-12 08:26:00|\n",
            "|   5220|   536384|    22189|CREAM HEART CARD ...|       4|01/12/2010 09:53|     3.95|     18074|United Kingdom|2010-01-12 09:53:00|2010-01-12 08:26:00|\n",
            "|   5220|   536384|    22427|ENAMEL FLOWER JUG...|       3|01/12/2010 09:53|     5.95|     18074|United Kingdom|2010-01-12 09:53:00|2010-01-12 08:26:00|\n",
            "|   5220|   536384|    22428|ENAMEL FIRE BUCKE...|       6|01/12/2010 09:53|     6.95|     18074|United Kingdom|2010-01-12 09:53:00|2010-01-12 08:26:00|\n",
            "|   5220|   536384|    22424|ENAMEL BREAD BIN ...|       8|01/12/2010 09:53|    10.95|     18074|United Kingdom|2010-01-12 09:53:00|2010-01-12 08:26:00|\n",
            "|   5400|   536385|    22783|SET 3 WICKER OVAL...|       1|01/12/2010 09:56|    19.95|     17420|United Kingdom|2010-01-12 09:56:00|2010-01-12 08:26:00|\n",
            "|   5400|   536385|    22961|JAM MAKING SET PR...|      12|01/12/2010 09:56|     1.45|     17420|United Kingdom|2010-01-12 09:56:00|2010-01-12 08:26:00|\n",
            "|   5400|   536385|    22960|JAM MAKING SET WI...|       6|01/12/2010 09:56|     4.25|     17420|United Kingdom|2010-01-12 09:56:00|2010-01-12 08:26:00|\n",
            "|   5400|   536385|    22663|JUMBO BAG DOLLY G...|      10|01/12/2010 09:56|     1.95|     17420|United Kingdom|2010-01-12 09:56:00|2010-01-12 08:26:00|\n",
            "|   5400|   536385|   85049A|TRADITIONAL CHRIS...|      12|01/12/2010 09:56|     1.25|     17420|United Kingdom|2010-01-12 09:56:00|2010-01-12 08:26:00|\n",
            "|   5400|   536385|    22168|ORGANISER WOOD AN...|       2|01/12/2010 09:56|      8.5|     17420|United Kingdom|2010-01-12 09:56:00|2010-01-12 08:26:00|\n",
            "|   5400|   536385|    22662|LUNCH BAG DOLLY G...|      10|01/12/2010 09:56|     1.65|     17420|United Kingdom|2010-01-12 09:56:00|2010-01-12 08:26:00|\n",
            "+-------+---------+---------+--------------------+--------+----------------+---------+----------+--------------+-------------------+-------------------+\n",
            "only showing top 20 rows\n",
            "\n"
          ]
        }
      ]
    },
    {
      "cell_type": "markdown",
      "source": [
        "# Frequency\n",
        "\n",
        "Let’s now calculate the value of frequency - how often a customer bought something on the platform. To do this, we just need to group by each customer ID and count the number of items they purchased:"
      ],
      "metadata": {
        "id": "6yAYvWpYzuJY"
      }
    },
    {
      "cell_type": "code",
      "source": [
        "df_freq = df2.groupBy('CustomerID').agg(count('InvoiceDate').alias('frequency'))\n",
        "df_freq.show()"
      ],
      "metadata": {
        "colab": {
          "base_uri": "https://localhost:8080/"
        },
        "id": "0z0K-O6LzzAc",
        "outputId": "9c5d0d4a-735d-46fb-a867-eace57ba3a6f"
      },
      "execution_count": null,
      "outputs": [
        {
          "output_type": "stream",
          "name": "stdout",
          "text": [
            "+----------+---------+\n",
            "|CustomerID|frequency|\n",
            "+----------+---------+\n",
            "|     16250|       14|\n",
            "|     15100|        1|\n",
            "|     13065|       14|\n",
            "|     12838|       58|\n",
            "|     15350|        5|\n",
            "|     12472|       13|\n",
            "|     15235|        5|\n",
            "|     15012|       53|\n",
            "|     16098|       12|\n",
            "|     17897|        2|\n",
            "|     16552|        5|\n",
            "|     17908|       58|\n",
            "|     17377|       14|\n",
            "|     13255|        6|\n",
            "|     14849|        3|\n",
            "|     17025|        5|\n",
            "|     14237|        9|\n",
            "|     12433|       73|\n",
            "|     17572|        4|\n",
            "|     14496|        5|\n",
            "+----------+---------+\n",
            "only showing top 20 rows\n",
            "\n"
          ]
        }
      ]
    },
    {
      "cell_type": "markdown",
      "source": [
        "This new dataframe only has two columns, and we need to join it with the previous one:"
      ],
      "metadata": {
        "id": "Pww63HFB0Uxh"
      }
    },
    {
      "cell_type": "code",
      "source": [
        "df3 = df2.join(df_freq,on='CustomerID',how='inner')\n",
        "df3.show()"
      ],
      "metadata": {
        "colab": {
          "base_uri": "https://localhost:8080/"
        },
        "id": "jHu1iKx80V0l",
        "outputId": "583dd809-c11a-4a31-84f3-77c65e9effb2"
      },
      "execution_count": null,
      "outputs": [
        {
          "output_type": "stream",
          "name": "stdout",
          "text": [
            "+----------+-------+---------+---------+--------------------+--------+----------------+---------+--------------+-------------------+-------------------+---------+\n",
            "|CustomerID|recency|InvoiceNo|StockCode|         Description|Quantity|     InvoiceDate|UnitPrice|       Country|               date|          from_date|frequency|\n",
            "+----------+-------+---------+---------+--------------------+--------+----------------+---------+--------------+-------------------+-------------------+---------+\n",
            "|     13047|    540|   536369|    21756|BATH BUILDING BLO...|       3|01/12/2010 08:35|     5.95|United Kingdom|2010-12-01 08:35:00|2010-12-01 08:26:00|        1|\n",
            "|     12583|   1140|   536370|    22728|ALARM CLOCK BAKEL...|      24|01/12/2010 08:45|     3.75|        France|2010-12-01 08:45:00|2010-12-01 08:26:00|       20|\n",
            "|     12583|   1140|   536370|    22727|ALARM CLOCK BAKEL...|      24|01/12/2010 08:45|     3.75|        France|2010-12-01 08:45:00|2010-12-01 08:26:00|       20|\n",
            "|     12583|   1140|   536370|    22726|ALARM CLOCK BAKEL...|      12|01/12/2010 08:45|     3.75|        France|2010-12-01 08:45:00|2010-12-01 08:26:00|       20|\n",
            "|     12583|   1140|   536370|    21724|PANDA AND BUNNIES...|      12|01/12/2010 08:45|     0.85|        France|2010-12-01 08:45:00|2010-12-01 08:26:00|       20|\n",
            "|     12583|   1140|   536370|    21883|    STARS GIFT TAPE |      24|01/12/2010 08:45|     0.65|        France|2010-12-01 08:45:00|2010-12-01 08:26:00|       20|\n",
            "|     12583|   1140|   536370|    10002|INFLATABLE POLITI...|      48|01/12/2010 08:45|     0.85|        France|2010-12-01 08:45:00|2010-12-01 08:26:00|       20|\n",
            "|     12583|   1140|   536370|    21791|VINTAGE HEADS AND...|      24|01/12/2010 08:45|     1.25|        France|2010-12-01 08:45:00|2010-12-01 08:26:00|       20|\n",
            "|     12583|   1140|   536370|    21035|SET/2 RED RETROSP...|      18|01/12/2010 08:45|     2.95|        France|2010-12-01 08:45:00|2010-12-01 08:26:00|       20|\n",
            "|     12583|   1140|   536370|    22326|ROUND SNACK BOXES...|      24|01/12/2010 08:45|     2.95|        France|2010-12-01 08:45:00|2010-12-01 08:26:00|       20|\n",
            "|     12583|   1140|   536370|    22629| SPACEBOY LUNCH BOX |      24|01/12/2010 08:45|     1.95|        France|2010-12-01 08:45:00|2010-12-01 08:26:00|       20|\n",
            "|     12583|   1140|   536370|    22659|LUNCH BOX I LOVE ...|      24|01/12/2010 08:45|     1.95|        France|2010-12-01 08:45:00|2010-12-01 08:26:00|       20|\n",
            "|     12583|   1140|   536370|    22631|CIRCUS PARADE LUN...|      24|01/12/2010 08:45|     1.95|        France|2010-12-01 08:45:00|2010-12-01 08:26:00|       20|\n",
            "|     12583|   1140|   536370|    22661|CHARLOTTE BAG DOL...|      20|01/12/2010 08:45|     0.85|        France|2010-12-01 08:45:00|2010-12-01 08:26:00|       20|\n",
            "|     12583|   1140|   536370|    21731|RED TOADSTOOL LED...|      24|01/12/2010 08:45|     1.65|        France|2010-12-01 08:45:00|2010-12-01 08:26:00|       20|\n",
            "|     12583|   1140|   536370|    22900| SET 2 TEA TOWELS...|      24|01/12/2010 08:45|     2.95|        France|2010-12-01 08:45:00|2010-12-01 08:26:00|       20|\n",
            "|     12583|   1140|   536370|    21913|VINTAGE SEASIDE J...|      12|01/12/2010 08:45|     3.75|        France|2010-12-01 08:45:00|2010-12-01 08:26:00|       20|\n",
            "|     12583|   1140|   536370|    22540|MINI JIGSAW CIRCU...|      24|01/12/2010 08:45|     0.42|        France|2010-12-01 08:45:00|2010-12-01 08:26:00|       20|\n",
            "|     12583|   1140|   536370|    22544|MINI JIGSAW SPACEBOY|      24|01/12/2010 08:45|     0.42|        France|2010-12-01 08:45:00|2010-12-01 08:26:00|       20|\n",
            "|     12583|   1140|   536370|    22492|MINI PAINT SET VI...|      36|01/12/2010 08:45|     0.65|        France|2010-12-01 08:45:00|2010-12-01 08:26:00|       20|\n",
            "+----------+-------+---------+---------+--------------------+--------+----------------+---------+--------------+-------------------+-------------------+---------+\n",
            "only showing top 20 rows\n",
            "\n"
          ]
        }
      ]
    },
    {
      "cell_type": "markdown",
      "source": [
        "# Monetary Value\n",
        "Finally, let’s calculate monetary value - the total amount spent by each customer in the dataframe. There are two steps to achieving this:\n",
        "\n",
        "**i) Find the total amount spent in each purchase:**\n",
        "\n",
        "Each customerID comes with variables called “Quantity” and “UnitPrice” for a single purchase:\n",
        "\n",
        "To get the total amount spent by each customer in one purchase, we need to multiply “Quantity” with “UnitPrice”:"
      ],
      "metadata": {
        "id": "ltJS9UGu04mh"
      }
    },
    {
      "cell_type": "markdown",
      "source": [],
      "metadata": {
        "id": "ExTgzrvO1P5C"
      }
    },
    {
      "cell_type": "code",
      "source": [
        "m_val = df3.withColumn('TotalAmount',col(\"Quantity\") * col(\"UnitPrice\"))\n",
        "m_val.show()"
      ],
      "metadata": {
        "colab": {
          "base_uri": "https://localhost:8080/"
        },
        "id": "8VjGW8Im1VRL",
        "outputId": "1ce345d8-742e-4b4e-8b41-51b953a71afa"
      },
      "execution_count": null,
      "outputs": [
        {
          "output_type": "stream",
          "name": "stdout",
          "text": [
            "+----------+-------+---------+---------+--------------------+--------+----------------+---------+--------------+-------------------+-------------------+---------+------------------+\n",
            "|CustomerID|recency|InvoiceNo|StockCode|         Description|Quantity|     InvoiceDate|UnitPrice|       Country|               date|          from_date|frequency|       TotalAmount|\n",
            "+----------+-------+---------+---------+--------------------+--------+----------------+---------+--------------+-------------------+-------------------+---------+------------------+\n",
            "|     13047|    540|   536369|    21756|BATH BUILDING BLO...|       3|01/12/2010 08:35|     5.95|United Kingdom|2010-12-01 08:35:00|2010-12-01 08:26:00|        1|             17.85|\n",
            "|     12583|   1140|   536370|    22728|ALARM CLOCK BAKEL...|      24|01/12/2010 08:45|     3.75|        France|2010-12-01 08:45:00|2010-12-01 08:26:00|       20|              90.0|\n",
            "|     12583|   1140|   536370|    22727|ALARM CLOCK BAKEL...|      24|01/12/2010 08:45|     3.75|        France|2010-12-01 08:45:00|2010-12-01 08:26:00|       20|              90.0|\n",
            "|     12583|   1140|   536370|    22726|ALARM CLOCK BAKEL...|      12|01/12/2010 08:45|     3.75|        France|2010-12-01 08:45:00|2010-12-01 08:26:00|       20|              45.0|\n",
            "|     12583|   1140|   536370|    21724|PANDA AND BUNNIES...|      12|01/12/2010 08:45|     0.85|        France|2010-12-01 08:45:00|2010-12-01 08:26:00|       20|              10.2|\n",
            "|     12583|   1140|   536370|    21883|    STARS GIFT TAPE |      24|01/12/2010 08:45|     0.65|        France|2010-12-01 08:45:00|2010-12-01 08:26:00|       20|15.600000000000001|\n",
            "|     12583|   1140|   536370|    10002|INFLATABLE POLITI...|      48|01/12/2010 08:45|     0.85|        France|2010-12-01 08:45:00|2010-12-01 08:26:00|       20|              40.8|\n",
            "|     12583|   1140|   536370|    21791|VINTAGE HEADS AND...|      24|01/12/2010 08:45|     1.25|        France|2010-12-01 08:45:00|2010-12-01 08:26:00|       20|              30.0|\n",
            "|     12583|   1140|   536370|    21035|SET/2 RED RETROSP...|      18|01/12/2010 08:45|     2.95|        France|2010-12-01 08:45:00|2010-12-01 08:26:00|       20|              53.1|\n",
            "|     12583|   1140|   536370|    22326|ROUND SNACK BOXES...|      24|01/12/2010 08:45|     2.95|        France|2010-12-01 08:45:00|2010-12-01 08:26:00|       20| 70.80000000000001|\n",
            "|     12583|   1140|   536370|    22629| SPACEBOY LUNCH BOX |      24|01/12/2010 08:45|     1.95|        France|2010-12-01 08:45:00|2010-12-01 08:26:00|       20|              46.8|\n",
            "|     12583|   1140|   536370|    22659|LUNCH BOX I LOVE ...|      24|01/12/2010 08:45|     1.95|        France|2010-12-01 08:45:00|2010-12-01 08:26:00|       20|              46.8|\n",
            "|     12583|   1140|   536370|    22631|CIRCUS PARADE LUN...|      24|01/12/2010 08:45|     1.95|        France|2010-12-01 08:45:00|2010-12-01 08:26:00|       20|              46.8|\n",
            "|     12583|   1140|   536370|    22661|CHARLOTTE BAG DOL...|      20|01/12/2010 08:45|     0.85|        France|2010-12-01 08:45:00|2010-12-01 08:26:00|       20|              17.0|\n",
            "|     12583|   1140|   536370|    21731|RED TOADSTOOL LED...|      24|01/12/2010 08:45|     1.65|        France|2010-12-01 08:45:00|2010-12-01 08:26:00|       20|39.599999999999994|\n",
            "|     12583|   1140|   536370|    22900| SET 2 TEA TOWELS...|      24|01/12/2010 08:45|     2.95|        France|2010-12-01 08:45:00|2010-12-01 08:26:00|       20| 70.80000000000001|\n",
            "|     12583|   1140|   536370|    21913|VINTAGE SEASIDE J...|      12|01/12/2010 08:45|     3.75|        France|2010-12-01 08:45:00|2010-12-01 08:26:00|       20|              45.0|\n",
            "|     12583|   1140|   536370|    22540|MINI JIGSAW CIRCU...|      24|01/12/2010 08:45|     0.42|        France|2010-12-01 08:45:00|2010-12-01 08:26:00|       20|             10.08|\n",
            "|     12583|   1140|   536370|    22544|MINI JIGSAW SPACEBOY|      24|01/12/2010 08:45|     0.42|        France|2010-12-01 08:45:00|2010-12-01 08:26:00|       20|             10.08|\n",
            "|     12583|   1140|   536370|    22492|MINI PAINT SET VI...|      36|01/12/2010 08:45|     0.65|        France|2010-12-01 08:45:00|2010-12-01 08:26:00|       20|23.400000000000002|\n",
            "+----------+-------+---------+---------+--------------------+--------+----------------+---------+--------------+-------------------+-------------------+---------+------------------+\n",
            "only showing top 20 rows\n",
            "\n"
          ]
        }
      ]
    },
    {
      "cell_type": "markdown",
      "source": [
        "**ii) Find the total amount spent by each customer:**\n",
        "\n",
        "To find the total amount spent by each customer overall, we just need to group by the CustomerID column and sum the total amount spent:"
      ],
      "metadata": {
        "id": "fIepUo081oQb"
      }
    },
    {
      "cell_type": "code",
      "source": [
        "m_val = m_val.groupBy('CustomerID').agg(sum('TotalAmount').alias('monetary_value'))\n",
        "m_val.show()"
      ],
      "metadata": {
        "colab": {
          "base_uri": "https://localhost:8080/"
        },
        "id": "F9Dv_hJ51psi",
        "outputId": "e3d55f6a-bef6-4001-d064-79aa00e701d5"
      },
      "execution_count": null,
      "outputs": [
        {
          "output_type": "stream",
          "name": "stdout",
          "text": [
            "+----------+------------------+\n",
            "|CustomerID|    monetary_value|\n",
            "+----------+------------------+\n",
            "|     16250|            226.14|\n",
            "|     15100|             350.4|\n",
            "|     13065|108.03000000000002|\n",
            "|     12838| 355.3899999999999|\n",
            "|     15350|111.75000000000001|\n",
            "|     12472| 67.27999999999999|\n",
            "|     15235|41.099999999999994|\n",
            "|     15012| 189.1099999999999|\n",
            "|     16098|430.59999999999997|\n",
            "|     17897|              98.7|\n",
            "|     16552|105.49000000000001|\n",
            "|     17908| 243.2799999999999|\n",
            "|     17377|188.20000000000005|\n",
            "|     13255|243.40000000000003|\n",
            "|     14849|             57.45|\n",
            "|     17025|              74.0|\n",
            "|     14237|            170.95|\n",
            "|     12433|1939.8400000000006|\n",
            "|     17572| 83.10000000000001|\n",
            "|     14496|15.069999999999999|\n",
            "+----------+------------------+\n",
            "only showing top 20 rows\n",
            "\n"
          ]
        }
      ]
    },
    {
      "cell_type": "markdown",
      "source": [
        "Merge this dataframe with the all the other variables:"
      ],
      "metadata": {
        "id": "C2pxz-9V2RI4"
      }
    },
    {
      "cell_type": "code",
      "source": [
        "finaldf = m_val.join(df3,on='CustomerID',how='inner')\n",
        "finaldf.show()"
      ],
      "metadata": {
        "colab": {
          "base_uri": "https://localhost:8080/"
        },
        "id": "JbUohWwb2R0P",
        "outputId": "a5876aa6-f68f-49b2-dba3-e6f029eaed49"
      },
      "execution_count": null,
      "outputs": [
        {
          "output_type": "stream",
          "name": "stdout",
          "text": [
            "+----------+------------------+-------+---------+---------+--------------------+--------+----------------+---------+--------------+-------------------+-------------------+---------+\n",
            "|CustomerID|    monetary_value|recency|InvoiceNo|StockCode|         Description|Quantity|     InvoiceDate|UnitPrice|       Country|               date|          from_date|frequency|\n",
            "+----------+------------------+-------+---------+---------+--------------------+--------+----------------+---------+--------------+-------------------+-------------------+---------+\n",
            "|     16250|            226.14|   5580|   536388|    21754|HOME BUILDING BLO...|       3|01/12/2010 09:59|     5.95|United Kingdom|2010-12-01 09:59:00|2010-12-01 08:26:00|       14|\n",
            "|     16250|            226.14|   5580|   536388|    21755|LOVE BUILDING BLO...|       3|01/12/2010 09:59|     5.95|United Kingdom|2010-12-01 09:59:00|2010-12-01 08:26:00|       14|\n",
            "|     16250|            226.14|   5580|   536388|    21523|DOORMAT FANCY FON...|       2|01/12/2010 09:59|     7.95|United Kingdom|2010-12-01 09:59:00|2010-12-01 08:26:00|       14|\n",
            "|     16250|            226.14|   5580|   536388|    21363|HOME SMALL WOOD L...|       3|01/12/2010 09:59|     4.95|United Kingdom|2010-12-01 09:59:00|2010-12-01 08:26:00|       14|\n",
            "|     16250|            226.14|   5580|   536388|    21411|GINGHAM HEART  DO...|       3|01/12/2010 09:59|     4.25|United Kingdom|2010-12-01 09:59:00|2010-12-01 08:26:00|       14|\n",
            "|     16250|            226.14|   5580|   536388|    22318|FIVE HEART HANGIN...|       6|01/12/2010 09:59|     2.95|United Kingdom|2010-12-01 09:59:00|2010-12-01 08:26:00|       14|\n",
            "|     16250|            226.14|   5580|   536388|    22464|HANGING METAL HEA...|      12|01/12/2010 09:59|     1.65|United Kingdom|2010-12-01 09:59:00|2010-12-01 08:26:00|       14|\n",
            "|     16250|            226.14|   5580|   536388|    22915|ASSORTED BOTTLE T...|      12|01/12/2010 09:59|     0.42|United Kingdom|2010-12-01 09:59:00|2010-12-01 08:26:00|       14|\n",
            "|     16250|            226.14|   5580|   536388|    22922|FRIDGE MAGNETS US...|      12|01/12/2010 09:59|     0.85|United Kingdom|2010-12-01 09:59:00|2010-12-01 08:26:00|       14|\n",
            "|     16250|            226.14|   5580|   536388|    22969|HOMEMADE JAM SCEN...|      12|01/12/2010 09:59|     1.45|United Kingdom|2010-12-01 09:59:00|2010-12-01 08:26:00|       14|\n",
            "|     16250|            226.14|   5580|   536388|    22923|FRIDGE MAGNETS LE...|      12|01/12/2010 09:59|     0.85|United Kingdom|2010-12-01 09:59:00|2010-12-01 08:26:00|       14|\n",
            "|     16250|            226.14|   5580|   536388|    21115|ROSE CARAVAN DOOR...|       4|01/12/2010 09:59|     6.75|United Kingdom|2010-12-01 09:59:00|2010-12-01 08:26:00|       14|\n",
            "|     16250|            226.14|   5580|   536388|    22469|HEART OF WICKER S...|      12|01/12/2010 09:59|     1.65|United Kingdom|2010-12-01 09:59:00|2010-12-01 08:26:00|       14|\n",
            "|     16250|            226.14|   5580|   536388|    22242|5 HOOK HANGER MAG...|      12|01/12/2010 09:59|     1.65|United Kingdom|2010-12-01 09:59:00|2010-12-01 08:26:00|       14|\n",
            "|     15100|             350.4|   2580|   536374|    21258|VICTORIAN SEWING ...|      32|01/12/2010 09:09|    10.95|United Kingdom|2010-12-01 09:09:00|2010-12-01 08:26:00|        1|\n",
            "|     13065|108.03000000000002|  21960|   536544|    20684|DOORMAT RED RETRO...|       1|01/12/2010 14:32|     6.77|United Kingdom|2010-12-01 14:32:00|2010-12-01 08:26:00|       14|\n",
            "|     13065|108.03000000000002|  21960|   536544|    20685|WOODLAND CHARLOTT...|       1|01/12/2010 14:32|    14.43|United Kingdom|2010-12-01 14:32:00|2010-12-01 08:26:00|       14|\n",
            "|     13065|108.03000000000002|  21960|   536544|    20719|RED RETROSPOT CHA...|       2|01/12/2010 14:32|     1.66|United Kingdom|2010-12-01 14:32:00|2010-12-01 08:26:00|       14|\n",
            "|     13065|108.03000000000002|  21960|   536544|    20724|LUNCH BAG RED RET...|       3|01/12/2010 14:32|     1.66|United Kingdom|2010-12-01 14:32:00|2010-12-01 08:26:00|       14|\n",
            "|     13065|108.03000000000002|  21960|   536544|    20725|GOLD MINI TAPE ME...|       4|01/12/2010 14:32|     4.21|United Kingdom|2010-12-01 14:32:00|2010-12-01 08:26:00|       14|\n",
            "+----------+------------------+-------+---------+---------+--------------------+--------+----------------+---------+--------------+-------------------+-------------------+---------+\n",
            "only showing top 20 rows\n",
            "\n"
          ]
        }
      ]
    },
    {
      "cell_type": "markdown",
      "source": [
        "Now that we have created all the necessary variables to build the model, run the following lines of code to select only the required columns and drop duplicate rows from the dataframe:"
      ],
      "metadata": {
        "id": "R6w1ulma2tX0"
      }
    },
    {
      "cell_type": "code",
      "source": [
        "finaldf = finaldf.select(['recency','frequency','monetary_value','CustomerID']).distinct()\n",
        "finaldf.show()"
      ],
      "metadata": {
        "colab": {
          "base_uri": "https://localhost:8080/"
        },
        "id": "F9hs8eV62uWv",
        "outputId": "e4844e85-2359-46ad-d914-b8891ec7465e"
      },
      "execution_count": null,
      "outputs": [
        {
          "output_type": "stream",
          "name": "stdout",
          "text": [
            "+-------+---------+------------------+----------+\n",
            "|recency|frequency|    monetary_value|CustomerID|\n",
            "+-------+---------+------------------+----------+\n",
            "|   5580|       14|            226.14|     16250|\n",
            "|   2580|        1|             350.4|     15100|\n",
            "|  21960|       14|108.03000000000002|     13065|\n",
            "|  12660|       58| 355.3899999999999|     12838|\n",
            "|  18300|        5|111.75000000000001|     15350|\n",
            "|  18420|        5|111.75000000000001|     15350|\n",
            "|  21960|       13| 67.27999999999999|     12472|\n",
            "|  21960|        5|41.099999999999994|     15235|\n",
            "|  15780|       53| 189.1099999999999|     15012|\n",
            "|   4740|       12|430.59999999999997|     16098|\n",
            "|  14460|        2|              98.7|     17897|\n",
            "|  15120|        2|              98.7|     17897|\n",
            "|  14940|        5|105.49000000000001|     16552|\n",
            "|  15000|        5|105.49000000000001|     16552|\n",
            "|  11940|       58| 243.2799999999999|     17908|\n",
            "|  14940|       14|188.20000000000005|     17377|\n",
            "|  12660|        6|243.40000000000003|     13255|\n",
            "|  12720|        6|243.40000000000003|     13255|\n",
            "|  13740|        3|             57.45|     14849|\n",
            "|  14220|        3|             57.45|     14849|\n",
            "+-------+---------+------------------+----------+\n",
            "only showing top 20 rows\n",
            "\n"
          ]
        }
      ]
    },
    {
      "cell_type": "markdown",
      "source": [
        "# Standardization\n",
        "\n",
        "Before building the customer segmentation model, let’s standardize the dataframe to ensure that all the variables are around the same scale:"
      ],
      "metadata": {
        "id": "Lb5ruy864GA5"
      }
    },
    {
      "cell_type": "code",
      "source": [
        "from pyspark.ml.feature import VectorAssembler\n",
        "from pyspark.ml.feature import StandardScaler\n",
        "\n",
        "assemble=VectorAssembler(inputCols=[\n",
        "    'recency','frequency','monetary_value'\n",
        "], outputCol='features')\n",
        "\n",
        "assembled_data=assemble.transform(finaldf)\n",
        "\n",
        "scale=StandardScaler(inputCol='features',outputCol='standardized')\n",
        "data_scale=scale.fit(assembled_data)\n",
        "data_scale_output=data_scale.transform(assembled_data)"
      ],
      "metadata": {
        "id": "Pa8Pprjt4IDP"
      },
      "execution_count": null,
      "outputs": []
    },
    {
      "cell_type": "markdown",
      "source": [
        "Run the following lines of code to see what the standardized feature vector looks like:"
      ],
      "metadata": {
        "id": "pASfCizK5DXK"
      }
    },
    {
      "cell_type": "code",
      "source": [
        "data_scale_output.select('standardized').show()"
      ],
      "metadata": {
        "colab": {
          "base_uri": "https://localhost:8080/"
        },
        "id": "sEFIeItx5FNF",
        "outputId": "bd29640e-cac4-4dd6-d6db-1085b6edde55"
      },
      "execution_count": null,
      "outputs": [
        {
          "output_type": "stream",
          "name": "stdout",
          "text": [
            "+--------------------+\n",
            "|        standardized|\n",
            "+--------------------+\n",
            "|[0.94972052710856...|\n",
            "|[0.43911809317922...|\n",
            "|[3.73760981636274...|\n",
            "|[2.1547422711818,...|\n",
            "|[3.11467484696895...|\n",
            "|[3.13509894432612...|\n",
            "|[3.73760981636274...|\n",
            "|[3.73760981636274...|\n",
            "|[2.68576880246830...|\n",
            "|[0.80675184560835...|\n",
            "|[2.46110373153940...|\n",
            "|[2.57343626700385...|\n",
            "|[2.54280012096809...|\n",
            "|[2.55301216964668...|\n",
            "|[2.03219768703875...|\n",
            "|[2.54280012096809...|\n",
            "|[2.1547422711818,...|\n",
            "|[2.16495431986038...|\n",
            "|[2.33855914739636...|\n",
            "|[2.42025553682505...|\n",
            "+--------------------+\n",
            "only showing top 20 rows\n",
            "\n"
          ]
        }
      ]
    },
    {
      "cell_type": "code",
      "source": [
        "data_scale_output.select('standardized').show(10,truncate=False)"
      ],
      "metadata": {
        "colab": {
          "base_uri": "https://localhost:8080/"
        },
        "id": "F1qc8ms25PzO",
        "outputId": "28c7afe2-732e-4642-9961-5404c9b58a5a"
      },
      "execution_count": null,
      "outputs": [
        {
          "output_type": "stream",
          "name": "stdout",
          "text": [
            "+------------------------------------------------------------+\n",
            "|standardized                                                |\n",
            "+------------------------------------------------------------+\n",
            "|[0.9497205271085658,0.7033107207198176,0.46036259897625037] |\n",
            "|[0.43911809317922934,0.050236480051415545,0.713323846649324]|\n",
            "|[3.7376098163627427,0.7033107207198176,0.21992116196782674] |\n",
            "|[2.1547422711818,2.9137158429821017,0.7234821970910479]     |\n",
            "|[3.1146748469689522,0.2511824002570777,0.22749412061376134] |\n",
            "|[3.135098944326126,0.2511824002570777,0.22749412061376134]  |\n",
            "|[3.7376098163627427,0.6530742406684021,0.13696469292969896] |\n",
            "|[3.7376098163627427,0.2511824002570777,0.08366897858814844] |\n",
            "|[2.6857688024683095,2.662533442725024,0.3849790885840571]   |\n",
            "|[0.8067518456083516,0.6028377606169866,0.8765903206826453]  |\n",
            "+------------------------------------------------------------+\n",
            "only showing top 10 rows\n",
            "\n"
          ]
        }
      ]
    },
    {
      "cell_type": "markdown",
      "source": [
        "These are the scaled features that will be fed into the clustering algorithm."
      ],
      "metadata": {
        "id": "nSlrGpVM5nbE"
      }
    },
    {
      "cell_type": "markdown",
      "source": [
        "# Step 5: Building the Machine Learning Model"
      ],
      "metadata": {
        "id": "IZaPalbB5zaw"
      }
    },
    {
      "cell_type": "markdown",
      "source": [
        "Now that we have completed all the data analysis and preparation, let’s build the K-Means clustering model.  The algorithm will be created using PySpark’s machine learning API.\n",
        "\n",
        "**i) Finding the number of clusters to use**\n",
        "\n",
        "When building a K-Means clustering model, we first need to determine the number of clusters or groups we want the algorithm to return. If we decide on three clusters, for instance, then we will have three customer segments. \n",
        "\n",
        "The most popular technique used to decide on how many clusters to use in K-Means is called the “elbow-method.” This is done simply running the K-Means algorithm for a wide range of clusters and visualizing the model results for each cluster. The plot will have an inflection point that looks like an elbow, and we just pick the number of clusters at this point. \n",
        "\n",
        "Let’s run the following lines of code to build a K-Means clustering algorithm from 2 to 10 clusters:"
      ],
      "metadata": {
        "id": "IdQbJEs055Sb"
      }
    },
    {
      "cell_type": "code",
      "source": [
        "from pyspark.ml.clustering import KMeans\n",
        "from pyspark.ml.evaluation import ClusteringEvaluator\n",
        "import numpy as np\n",
        "\n",
        "cost = np.zeros(10)\n",
        "\n",
        "evaluator = ClusteringEvaluator(predictionCol='prediction', featuresCol='standardized',metricName='silhouette', distanceMeasure='squaredEuclidean')\n",
        "\n",
        "for i in range(2,10):\n",
        "    KMeans_algo=KMeans(featuresCol='standardized', k=i)\n",
        "    KMeans_fit=KMeans_algo.fit(data_scale_output)\n",
        "    output=KMeans_fit.transform(data_scale_output)\n",
        "    cost[i] = KMeans_fit.summary.trainingCost\n",
        "print(cost)"
      ],
      "metadata": {
        "colab": {
          "base_uri": "https://localhost:8080/"
        },
        "id": "LjEcfpfi6Pxh",
        "outputId": "d8f5d8e0-efaa-40e3-c97a-849d71d3310e"
      },
      "execution_count": null,
      "outputs": [
        {
          "output_type": "stream",
          "name": "stdout",
          "text": [
            "[  0.           0.         291.43305485 209.71185215 119.96000555\n",
            "  96.36916306  82.95222138  75.03932738  66.29096598  51.28228651]\n"
          ]
        }
      ]
    },
    {
      "cell_type": "markdown",
      "source": [
        "With the codes above, we have successfully built and evaluated a K-Means clustering model with 2 to 10 clusters. The results have been placed in an array, and can now be visualized in a line chart:"
      ],
      "metadata": {
        "id": "4lF8imTm70p6"
      }
    },
    {
      "cell_type": "code",
      "source": [
        "import pandas as pd\n",
        "import pylab as pl\n",
        "df_cost = pd.DataFrame(cost[2:])\n",
        "df_cost.columns = [\"cost\"]\n",
        "new_col = range(2,10)\n",
        "df_cost.insert(0, 'cluster', new_col)\n",
        "pl.plot(df_cost.cluster, df_cost.cost)\n",
        "pl.xlabel('Number of Clusters')\n",
        "pl.ylabel('Score')\n",
        "pl.title('Elbow Curve')\n",
        "pl.show()"
      ],
      "metadata": {
        "colab": {
          "base_uri": "https://localhost:8080/",
          "height": 295
        },
        "id": "fLWvkKUf719_",
        "outputId": "d7bb85d9-cb0d-446f-cae6-35b9e3379f6f"
      },
      "execution_count": null,
      "outputs": [
        {
          "output_type": "display_data",
          "data": {
            "text/plain": [
              "<Figure size 432x288 with 1 Axes>"
            ],
            "image/png": "[encoded data removed]"
          },
          "metadata": {
            "needs_background": "light"
          }
        }
      ]
    },
    {
      "cell_type": "markdown",
      "source": [
        "**ii) Building the K-Means Clustering Model**\n",
        "\n",
        "From the plot above, we can see that there is an inflection point that looks like an elbow at four. Due to this, we will proceed to build the K-Means algorithm with four clusters:"
      ],
      "metadata": {
        "id": "V7pqRBgE_E3l"
      }
    },
    {
      "cell_type": "code",
      "source": [
        "KMeans_algo=KMeans(featuresCol='standardized', k=4)\n",
        "KMeans_fit=KMeans_algo.fit(data_scale_output)"
      ],
      "metadata": {
        "id": "hEnOlMOM_Nkg"
      },
      "execution_count": null,
      "outputs": []
    },
    {
      "cell_type": "markdown",
      "source": [
        "# iii) Making Predictions\n",
        "\n",
        "Let’s use the model we created to assign clusters to each customer in the dataset:"
      ],
      "metadata": {
        "id": "hVGrzgAc_bJ2"
      }
    },
    {
      "cell_type": "code",
      "source": [
        "preds=KMeans_fit.transform(data_scale_output)\n",
        "\n",
        "preds.show(5,0)"
      ],
      "metadata": {
        "colab": {
          "base_uri": "https://localhost:8080/"
        },
        "id": "OM0d6h1Q_dOu",
        "outputId": "2b24fc73-87c5-4026-cda6-c0ed65902af7"
      },
      "execution_count": null,
      "outputs": [
        {
          "output_type": "stream",
          "name": "stdout",
          "text": [
            "+-------+---------+------------------+----------+---------------------------------+------------------------------------------------------------+----------+\n",
            "|recency|frequency|monetary_value    |CustomerID|features                         |standardized                                                |prediction|\n",
            "+-------+---------+------------------+----------+---------------------------------+------------------------------------------------------------+----------+\n",
            "|5580   |14       |226.14            |16250     |[5580.0,14.0,226.14]             |[0.9497205271085658,0.7033107207198176,0.46036259897625037] |0         |\n",
            "|2580   |1        |350.4             |15100     |[2580.0,1.0,350.4]               |[0.43911809317922934,0.050236480051415545,0.713323846649324]|0         |\n",
            "|21960  |14       |108.03000000000002|13065     |[21960.0,14.0,108.03000000000002]|[3.7376098163627427,0.7033107207198176,0.21992116196782674] |3         |\n",
            "|12660  |58       |355.3899999999999 |12838     |[12660.0,58.0,355.3899999999999] |[2.1547422711818,2.9137158429821017,0.7234821970910479]     |0         |\n",
            "|18300  |5        |111.75000000000001|15350     |[18300.0,5.0,111.75000000000001] |[3.1146748469689522,0.2511824002570777,0.22749412061376134] |3         |\n",
            "+-------+---------+------------------+----------+---------------------------------+------------------------------------------------------------+----------+\n",
            "only showing top 5 rows\n",
            "\n"
          ]
        }
      ]
    },
    {
      "cell_type": "markdown",
      "source": [
        "Notice that there is a “prediction” column in this dataframe that tells us which cluster each CustomerID belongs to:"
      ],
      "metadata": {
        "id": "BffZxzMJ_1n6"
      }
    },
    {
      "cell_type": "markdown",
      "source": [
        "# Step 6: Cluster Analysis"
      ],
      "metadata": {
        "id": "meS_u8GE_8x5"
      }
    },
    {
      "cell_type": "markdown",
      "source": [
        "The final step in this entire tutorial is to analyze the customer segments we just built. Run the following lines of code to visualize the recency, frequency, and monetary value of each customerID in the dataframe:"
      ],
      "metadata": {
        "id": "B_5fGF84ADQk"
      }
    },
    {
      "cell_type": "code",
      "source": [
        "import matplotlib.pyplot as plt\n",
        "import seaborn as sns\n",
        "\n",
        "df_viz = preds.select('recency','frequency','monetary_value','prediction')\n",
        "df_viz = df_viz.toPandas()\n",
        "print(df_viz)\n",
        "\n"
      ],
      "metadata": {
        "colab": {
          "base_uri": "https://localhost:8080/"
        },
        "id": "pxQTHngtAUZl",
        "outputId": "fc8c4db1-8dec-4f7e-a69c-36e98b5bace9"
      },
      "execution_count": null,
      "outputs": [
        {
          "output_type": "stream",
          "name": "stdout",
          "text": [
            "     recency  frequency  monetary_value  prediction\n",
            "0      12720         14          233.75           0\n",
            "1      14220         84          275.40           0\n",
            "2      21960          6           31.99           3\n",
            "3       7080          7         -141.48           0\n",
            "4      12180         81          514.41           0\n",
            "..       ...        ...             ...         ...\n",
            "128    15420         71          379.14           0\n",
            "129    10560          3          357.00           0\n",
            "130    18720         12          192.00           3\n",
            "131    21960         21          126.71           3\n",
            "132    21960         13           67.28           3\n",
            "\n",
            "[133 rows x 4 columns]\n"
          ]
        }
      ]
    },
    {
      "cell_type": "code",
      "source": [
        "avg_df = df_viz.groupby(['prediction'], as_index=False).mean()\n",
        "print (avg_df)"
      ],
      "metadata": {
        "colab": {
          "base_uri": "https://localhost:8080/"
        },
        "id": "qoTzn8uNXLVQ",
        "outputId": "28e058ae-c6df-4b32-cb8c-2c4f26fcda4c"
      },
      "execution_count": null,
      "outputs": [
        {
          "output_type": "stream",
          "name": "stdout",
          "text": [
            "   prediction       recency  frequency  monetary_value\n",
            "0           0   9007.500000  21.916667      372.498750\n",
            "1           1   5520.000000   5.000000     3193.920000\n",
            "2           2  14232.000000  39.600000     2130.140000\n",
            "3           3  18983.544304  16.303797      241.593924\n"
          ]
        }
      ]
    },
    {
      "cell_type": "code",
      "source": [
        "list1 = ['recency','frequency','monetary_value']\n",
        "\n",
        "for i in list1:\n",
        "    sns.barplot(x='prediction',y=str(i),data=avg_df)\n",
        "    plt.show()"
      ],
      "metadata": {
        "colab": {
          "base_uri": "https://localhost:8080/",
          "height": 803
        },
        "id": "3pgLac0SYBZ8",
        "outputId": "37835d67-fa51-4fff-d5d6-f1f3cc681dcd"
      },
      "execution_count": null,
      "outputs": [
        {
          "output_type": "display_data",
          "data": {
            "text/plain": [
              "<Figure size 432x288 with 1 Axes>"
            ],
            "image/png": "[encoded data removed]"
          },
          "metadata": {
            "needs_background": "light"
          }
        },
        {
          "output_type": "display_data",
          "data": {
            "text/plain": [
              "<Figure size 432x288 with 1 Axes>"
            ],
            "image/png": "[encoded data removed]"
          },
          "metadata": {
            "needs_background": "light"
          }
        },
        {
          "output_type": "display_data",
          "data": {
            "text/plain": [
              "<Figure size 432x288 with 1 Axes>"
            ],
            "image/png": "[encoded data removed]"
          },
          "metadata": {
            "needs_background": "light"
          }
        }
      ]
    },
    {
      "cell_type": "markdown",
      "source": [
        "Here is an overview of characteristics displayed by customers in each cluster:\n",
        "\n",
        "*   **Cluster 0**: Customers in this segment display low recency, frequency, and monetary value. They rarely shop on the platform and are low potential customers who are likely to stop doing business with the ecommerce company.\n",
        "*   **Cluster 1**: Users in this cluster display high recency but haven’t been seen spending much on the platform. They also don’t visit the site often. This indicates that they might be newer customers who have just started doing business with the company.\n",
        "*   **Cluster 2**: Customers in this segment display medium recency and frequency and spend a lot of money on the platform. This indicates that they tend to buy high-value items or make bulk purchases.\n",
        "*  **Cluster 3**: The final segment comprises users who display high recency and make frequent purchases on the platform. However, they don’t spend much on the platform, which might mean that they tend to select cheaper items in each purchase.\n",
        "\n",
        "\n",
        "\n",
        "\n",
        "\n"
      ],
      "metadata": {
        "id": "npnKm8PsBJUM"
      }
    }
  ]
}