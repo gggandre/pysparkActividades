{
  "cells": [
    {
      "cell_type": "markdown",
      "metadata": {
        "id": "K6Iv32T_kgRf"
      },
      "source": [
        "##Paso 1: Configuración del entorno de PySpark en Colab"
      ]
    },
    {
      "cell_type": "code",
      "execution_count": 11,
      "metadata": {
        "colab": {
          "base_uri": "https://localhost:8080/",
          "height": 325
        },
        "id": "sKfMHXDwiZqF",
        "outputId": "34a6ecab-59fc-4509-bb58-b273f8745f70"
      },
      "outputs": [
        {
          "name": "stdout",
          "output_type": "stream",
          "text": [
            "\u001b[33m\r0% [Working]\u001b[0m\r            \rHit:1 http://archive.ubuntu.com/ubuntu jammy InRelease\n",
            "\u001b[33m\r0% [Waiting for headers] [Connecting to security.ubuntu.com (185.125.190.39)] [\u001b[0m\r                                                                               \rHit:2 https://cloud.r-project.org/bin/linux/ubuntu jammy-cran40/ InRelease\n",
            "\u001b[33m\r0% [Waiting for headers] [Connecting to security.ubuntu.com (185.125.190.39)] [\u001b[0m\r                                                                               \rHit:3 http://archive.ubuntu.com/ubuntu jammy-updates InRelease\n",
            "\u001b[33m\r0% [Waiting for headers] [Connecting to security.ubuntu.com (185.125.190.39)] [\u001b[0m\r                                                                               \rHit:4 https://developer.download.nvidia.com/compute/cuda/repos/ubuntu2204/x86_64  InRelease\n",
            "Hit:5 http://archive.ubuntu.com/ubuntu jammy-backports InRelease\n",
            "Hit:6 http://security.ubuntu.com/ubuntu jammy-security InRelease\n",
            "Hit:7 https://ppa.launchpadcontent.net/c2d4u.team/c2d4u4.0+/ubuntu jammy InRelease\n",
            "Hit:8 https://ppa.launchpadcontent.net/deadsnakes/ppa/ubuntu jammy InRelease\n",
            "Hit:9 https://ppa.launchpadcontent.net/graphics-drivers/ppa/ubuntu jammy InRelease\n",
            "Hit:10 https://ppa.launchpadcontent.net/ubuntugis/ppa/ubuntu jammy InRelease\n",
            "Reading package lists... Done\n",
            "Building dependency tree... Done\n",
            "Reading state information... Done\n",
            "18 packages can be upgraded. Run 'apt list --upgradable' to see them.\n",
            "Requirement already satisfied: pyspark in /usr/local/lib/python3.10/dist-packages (3.5.0)\n",
            "Requirement already satisfied: py4j==0.10.9.7 in /usr/local/lib/python3.10/dist-packages (from pyspark) (0.10.9.7)\n"
          ]
        },
        {
          "data": {
            "application/vnd.google.colaboratory.intrinsic+json": {
              "type": "string"
            },
            "text/plain": [
              "'/content/spark-3.5.0-bin-hadoop3'"
            ]
          },
          "execution_count": 11,
          "metadata": {},
          "output_type": "execute_result"
        }
      ],
      "source": [
        "#Bibliotecas para poder trabajar con Spark\n",
        "!sudo apt update\n",
        "!apt-get install openjdk-8-jdk-headless -qq > /dev/null\n",
        "!wget -q https://dlcdn.apache.org/spark/spark-3.5.0/spark-3.5.0-bin-hadoop3.tgz\n",
        "\n",
        "!tar xf spark-3.5.0-bin-hadoop3.tgz\n",
        "\n",
        "#Configuración de Spark con Python\n",
        "!pip install -q findspark\n",
        "!pip install pyspark\n",
        "\n",
        "#Estableciendo variable de entorno\n",
        "import os\n",
        "os.environ[\"JAVA_HOME\"] = \"/usr/lib/jvm/java-8-openjdk-amd64\"\n",
        "os.environ[\"SPARK_HOME\"] = \"/content/spark-3.5.0-bin-hadoop3\"\n",
        "\n",
        "#Buscando e inicializando la instalación de Spark\n",
        "import findspark\n",
        "findspark.init()\n",
        "findspark.find()"
      ]
    },
    {
      "cell_type": "code",
      "execution_count": 2,
      "metadata": {
        "colab": {
          "base_uri": "https://localhost:8080/",
          "height": 221
        },
        "id": "t6rEVjdqWn8p",
        "outputId": "86827f33-94cd-4bd3-f030-3ec955980406"
      },
      "outputs": [
        {
          "name": "stderr",
          "output_type": "stream",
          "text": [
            "your 131072x1 screen size is bogus. expect trouble\n",
            "23/09/28 17:38:30 WARN Utils: Your hostname, Nitro-Andre resolves to a loopback address: 127.0.1.1; using 172.22.45.199 instead (on interface eth0)\n",
            "23/09/28 17:38:30 WARN Utils: Set SPARK_LOCAL_IP if you need to bind to another address\n",
            "Setting default log level to \"WARN\".\n",
            "To adjust logging level use sc.setLogLevel(newLevel). For SparkR, use setLogLevel(newLevel).\n",
            "23/09/28 17:38:31 WARN NativeCodeLoader: Unable to load native-hadoop library for your platform... using builtin-java classes where applicable\n"
          ]
        },
        {
          "data": {
            "text/html": [
              "\n",
              "            <div>\n",
              "                <p><b>SparkSession - in-memory</b></p>\n",
              "                \n",
              "        <div>\n",
              "            <p><b>SparkContext</b></p>\n",
              "\n",
              "            <p><a href=\"http://172.22.45.199:4040\">Spark UI</a></p>\n",
              "\n",
              "            <dl>\n",
              "              <dt>Version</dt>\n",
              "                <dd><code>v3.4.1</code></dd>\n",
              "              <dt>Master</dt>\n",
              "                <dd><code>local[*]</code></dd>\n",
              "              <dt>AppName</dt>\n",
              "                <dd><code>Andre</code></dd>\n",
              "            </dl>\n",
              "        </div>\n",
              "        \n",
              "            </div>\n",
              "        "
            ],
            "text/plain": [
              "<pyspark.sql.session.SparkSession at 0x7f79058c3ca0>"
            ]
          },
          "execution_count": 2,
          "metadata": {},
          "output_type": "execute_result"
        }
      ],
      "source": [
        "#Verificar la funcionalidad de Pyspark\n",
        "from pyspark.sql import SparkSession\n",
        "spark_session = SparkSession.builder.appName('Andre').getOrCreate()\n",
        "spark_session"
      ]
    },
    {
      "cell_type": "code",
      "execution_count": null,
      "metadata": {
        "colab": {
          "base_uri": "https://localhost:8080/"
        },
        "id": "6sxykf32Xtlb",
        "outputId": "99977d9d-6cfd-43d2-897c-a29e31c539a1"
      },
      "outputs": [],
      "source": [
        "# Vendedores con PANDAS\n",
        "import pandas as pd\n",
        "import matplotlib.pyplot as plt\n",
        "\n",
        "reporte = pd.read_excel(\"vendedores.xlsx\")\n",
        "print (reporte)"
      ]
    },
    {
      "cell_type": "code",
      "execution_count": 4,
      "metadata": {
        "colab": {
          "base_uri": "https://localhost:8080/"
        },
        "id": "qFMT65g4Xv-z",
        "outputId": "4a303205-01bc-413f-ae7b-631d3f9f4b39"
      },
      "outputs": [
        {
          "name": "stdout",
          "output_type": "stream",
          "text": [
            "  REGION    ID          NOMBRE              APELLIDO  SALARIO  \\\n",
            "0  NORTE  8725          Arturo       Bustos González    12041   \n",
            "1  NORTE  4352      Jesús Said           Caro Ibarra    11504   \n",
            "2  NORTE  5185     Ana Valeria       Cruz Montesinos    10046   \n",
            "3  NORTE  6918         Miranda           Doring Romo    10266   \n",
            "4  NORTE  8607  Bruno Guissepe        Garcini García    10431   \n",
            "5  NORTE  5158   Donovan Hiram           García Cruz    11773   \n",
            "6  NORTE  5397          Ixchel          García Galán     8654   \n",
            "7  NORTE  2353       Sebastián       Garduño Pabello    11777   \n",
            "8  NORTE  5467         Gustavo     Guadarrama García    12071   \n",
            "9  NORTE  2523      Juan Pablo  Herrera Moro Salcedo    12072   \n",
            "\n",
            "   UNIDADES VENDIDAS  VENTAS TOTALES  PORCENTAJE DE VENTAS  \n",
            "0                212            4554              0.069343  \n",
            "1                488            3298              0.050218  \n",
            "2                429            7238              0.110211  \n",
            "3                109            5635              0.085803  \n",
            "4                222            5405              0.082300  \n",
            "5                438            3577              0.054466  \n",
            "6                291           10020              0.152572  \n",
            "7                280            7922              0.120626  \n",
            "8                184            8972              0.136614  \n",
            "9                143            9053              0.137848  \n"
          ]
        }
      ],
      "source": [
        "reporteNorte = reporte.groupby('REGION').get_group('NORTE')\n",
        "print (reporteNorte)"
      ]
    },
    {
      "cell_type": "code",
      "execution_count": 5,
      "metadata": {
        "colab": {
          "base_uri": "https://localhost:8080/"
        },
        "id": "W8roqrt7X1yz",
        "outputId": "e6a7de6c-c420-457a-a624-9b5a967c60b0"
      },
      "outputs": [
        {
          "name": "stdout",
          "output_type": "stream",
          "text": [
            "0     4554\n",
            "1     3298\n",
            "2     7238\n",
            "3     5635\n",
            "4     5405\n",
            "5     3577\n",
            "6    10020\n",
            "7     7922\n",
            "8     8972\n",
            "9     9053\n",
            "Name: VENTAS TOTALES, dtype: int64\n",
            "Promedio de ventas region norte:  6567.4\n"
          ]
        }
      ],
      "source": [
        "ventasNorte = reporteNorte['VENTAS TOTALES']\n",
        "print (ventasNorte)\n",
        "print ('Promedio de ventas region norte: ', ventasNorte.mean())"
      ]
    },
    {
      "cell_type": "code",
      "execution_count": 6,
      "metadata": {
        "colab": {
          "base_uri": "https://localhost:8080/"
        },
        "id": "-pjMFsawX4Bv",
        "outputId": "746134f7-cc51-4ccd-ee6f-eaa7f691e546"
      },
      "outputs": [
        {
          "name": "stdout",
          "output_type": "stream",
          "text": [
            "0            Arturo\n",
            "1        Jesús Said\n",
            "2       Ana Valeria\n",
            "3           Miranda\n",
            "4    Bruno Guissepe\n",
            "5     Donovan Hiram\n",
            "6            Ixchel\n",
            "7         Sebastián\n",
            "8           Gustavo\n",
            "9        Juan Pablo\n",
            "Name: NOMBRE, dtype: object\n"
          ]
        }
      ],
      "source": [
        "vendedoresNorte = reporteNorte['NOMBRE']\n",
        "print (vendedoresNorte)\n",
        "\n"
      ]
    },
    {
      "cell_type": "code",
      "execution_count": 7,
      "metadata": {
        "colab": {
          "base_uri": "https://localhost:8080/"
        },
        "id": "uKWjdWjgX7kD",
        "outputId": "e1f9e441-ee1f-4c40-fefe-fd149f32bbae"
      },
      "outputs": [
        {
          "name": "stdout",
          "output_type": "stream",
          "text": [
            "0    12041\n",
            "1    11504\n",
            "2    10046\n",
            "3    10266\n",
            "4    10431\n",
            "5    11773\n",
            "6     8654\n",
            "7    11777\n",
            "8    12071\n",
            "9    12072\n",
            "Name: SALARIO, dtype: int64\n"
          ]
        }
      ],
      "source": [
        "salariosNorte = reporteNorte['SALARIO']\n",
        "print (salariosNorte)"
      ]
    },
    {
      "cell_type": "code",
      "execution_count": 8,
      "metadata": {
        "colab": {
          "base_uri": "https://localhost:8080/",
          "height": 545
        },
        "id": "0g6gRUAHWtwr",
        "outputId": "f13f43db-f2e6-43d2-d651-e847d9479ab4"
      },
      "outputs": [
        {
          "data": {
            "image/png": "[encoded data removed]",
            "text/plain": [
              "<Figure size 640x480 with 1 Axes>"
            ]
          },
          "metadata": {},
          "output_type": "display_data"
        }
      ],
      "source": [
        "plt.bar(vendedoresNorte, salariosNorte)\n",
        "plt.xlabel('Nombre del Vendedor')\n",
        "plt.ylabel('Salario')\n",
        "plt.title('Vendedores / Salario Region Norte')\n",
        "plt.xticks(rotation = 45)\n",
        "plt.show()\n"
      ]
    }
  ],
  "metadata": {
    "colab": {
      "provenance": []
    },
    "kernelspec": {
      "display_name": "Python 3",
      "name": "python3"
    },
    "language_info": {
      "codemirror_mode": {
        "name": "ipython",
        "version": 3
      },
      "file_extension": ".py",
      "mimetype": "text/x-python",
      "name": "python",
      "nbconvert_exporter": "python",
      "pygments_lexer": "ipython3",
      "version": "3.8.10"
    }
  },
  "nbformat": 4,
  "nbformat_minor": 0
}
